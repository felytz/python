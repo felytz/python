{
 "cells": [
  {
   "cell_type": "markdown",
   "metadata": {},
   "source": [
    "# Práctica de programación en Python"
   ]
  },
  {
   "cell_type": "markdown",
   "metadata": {},
   "source": [
    "## 1 Múltiplos de 3 o 5"
   ]
  },
  {
   "cell_type": "markdown",
   "metadata": {},
   "source": [
    "A partir de un entero no-negativo n, encuentra la suma de todos los múltiplos de 3 o 5 menores a n."
   ]
  },
  {
   "cell_type": "code",
   "execution_count": 35,
   "metadata": {},
   "outputs": [],
   "source": [
    "def int_3_5(n,verif=False):\n",
    "    \"\"\"\n",
    "    Returns the sum of all the multiple numbers of 3 or 5 that are lower than n.\n",
    "\n",
    "    :param n: non-negative integer\n",
    "    :param verif: prints each step of the sum\n",
    "    \"\"\"\n",
    "    # initial value of result\n",
    "    result = 0\n",
    "\n",
    "    # we skip\n",
    "    m3 = n//3\n",
    "    m5 = n//5\n",
    "    \n",
    "    # we sum all the multiples of 3 \n",
    "    for i in range(1, m3+1):\n",
    "        # multiple number\n",
    "        m=i*3\n",
    "\n",
    "        # only sum if lower than n\n",
    "        if m<n:\n",
    "            result+=m\n",
    "            \n",
    "            # verification\n",
    "            if verif==True:\n",
    "                print(f'{result-m}+{m}:')\n",
    "                print(f'{result}')\n",
    "\n",
    "    # we sum all the multiples of 5\n",
    "    for i in range(1, m5+1):\n",
    "        \n",
    "        # before sum, we check that it's not also a multiple of 3(repeated value)\n",
    "        if i%3 != 0:\n",
    "            #if not a multiple of 3, get multiple number\n",
    "            m=i*5\n",
    "            \n",
    "            # only sum if lower than n\n",
    "            if m<n:\n",
    "                result+=m\n",
    "\n",
    "                # verification\n",
    "                if verif==True:\n",
    "                    print(f'{result-m}+{m}:')\n",
    "                    print(f'{result}')\n",
    "        #else:\n",
    "            # if multiple of 3, do nothing\n",
    "\n",
    "    # we return the result\n",
    "    return result"
   ]
  },
  {
   "cell_type": "code",
   "execution_count": 31,
   "metadata": {},
   "outputs": [
    {
     "data": {
      "text/plain": [
       "23"
      ]
     },
     "execution_count": 31,
     "metadata": {},
     "output_type": "execute_result"
    }
   ],
   "source": [
    "int_3_5(10)"
   ]
  },
  {
   "cell_type": "code",
   "execution_count": 37,
   "metadata": {},
   "outputs": [
    {
     "name": "stdout",
     "output_type": "stream",
     "text": [
      "0+3:\n",
      "3\n",
      "3+6:\n",
      "9\n",
      "9+9:\n",
      "18\n",
      "18+5:\n",
      "23\n"
     ]
    },
    {
     "data": {
      "text/plain": [
       "23"
      ]
     },
     "execution_count": 37,
     "metadata": {},
     "output_type": "execute_result"
    }
   ],
   "source": [
    "int_3_5(10,True)"
   ]
  },
  {
   "cell_type": "code",
   "execution_count": 32,
   "metadata": {},
   "outputs": [
    {
     "data": {
      "text/plain": [
       "45"
      ]
     },
     "execution_count": 32,
     "metadata": {},
     "output_type": "execute_result"
    }
   ],
   "source": [
    "int_3_5(15)"
   ]
  },
  {
   "cell_type": "code",
   "execution_count": 36,
   "metadata": {},
   "outputs": [
    {
     "name": "stdout",
     "output_type": "stream",
     "text": [
      "0+3:\n",
      "3\n",
      "3+6:\n",
      "9\n",
      "9+9:\n",
      "18\n",
      "18+12:\n",
      "30\n",
      "30+5:\n",
      "35\n",
      "35+10:\n",
      "45\n"
     ]
    },
    {
     "data": {
      "text/plain": [
       "45"
      ]
     },
     "execution_count": 36,
     "metadata": {},
     "output_type": "execute_result"
    }
   ],
   "source": [
    "int_3_5(15,True)"
   ]
  },
  {
   "cell_type": "markdown",
   "metadata": {},
   "source": [
    "## 2 Combinar listas ordenadas"
   ]
  },
  {
   "cell_type": "markdown",
   "metadata": {},
   "source": [
    "Considera dos listas de enteros nums1 y nums2 en orden no-decreciente, dos enteros m y n\n",
    "correspondientes a la cantidad de elementos en nums1 y nums2 respectivamente.\n",
    "\n",
    "Combina nums1 y nums2 en una lista que contenga los elementos de ambas y también tenga\n",
    "orden no-decreciente."
   ]
  },
  {
   "cell_type": "code",
   "execution_count": 4,
   "metadata": {},
   "outputs": [],
   "source": [
    "def comb_list(nums1,nums2,m=0,n=0):\n",
    "    \"\"\"\n",
    "    Returns a list which contains the combination of elements in two given lists.\n",
    "\n",
    "    :param nums1: list of integers in a non-descending way\n",
    "    :param nums2: list of integers in a non-descending way\n",
    "    :param m: number of items in nums1\n",
    "    :param n: number of items in nums2\n",
    "    \"\"\"\n",
    "    # initial value of result list\n",
    "    result = []\n",
    "    if m==0:\n",
    "        m=len(nums1)\n",
    "    if n==0:\n",
    "        n=len(nums2)\n",
    "\n",
    "    # we start from the nums1\n",
    "    result=nums1.copy()\n",
    "\n",
    "    # we check that every element from the nums2 satisfies the following criteria\n",
    "    for item2 in nums2:\n",
    "        \n",
    "        # is the item from nums 2, also in nums 1? (default no)\n",
    "        condition=False\n",
    "\n",
    "        # we check which indexes are in both lists\n",
    "        for index1 in range(len(nums1)):\n",
    "\n",
    "            # if the value in nums 2, is the same as one in nums 1, we do the following\n",
    "            if nums1[index1]==item2:\n",
    "\n",
    "                # we cut the result list till the index that is in both lists\n",
    "                left=result[:index1]\n",
    "\n",
    "                # same with the right side\n",
    "                right=result[index1:]\n",
    "\n",
    "                # we add the result that its in both lists ad the end of the left list\n",
    "                left.append(item2)\n",
    "\n",
    "                # we join both sides\n",
    "                result=left+right\n",
    "\n",
    "                # item in both lists condition\n",
    "                condition=True\n",
    "        \n",
    "        # if item just in 1 list, append it\n",
    "        if condition==False:\n",
    "            result.append(item2)\n",
    "        \n",
    "    if len(result)==(m+n):\n",
    "        return result\n",
    "    else:\n",
    "        return print('Size error')"
   ]
  },
  {
   "cell_type": "code",
   "execution_count": 5,
   "metadata": {},
   "outputs": [],
   "source": [
    "examples={\n",
    "    1:[[1,2,3],[2,5,6]],\n",
    "    2:[[1],[]],\n",
    "    3:[[],[1]],\n",
    "    \n",
    "    # Extra example\n",
    "    4:[[1,2,3],[5,6,7]]\n",
    "}"
   ]
  },
  {
   "cell_type": "code",
   "execution_count": 6,
   "metadata": {},
   "outputs": [
    {
     "name": "stdout",
     "output_type": "stream",
     "text": [
      "For example number 1,if we combine [1, 2, 3] and [2, 5, 6] we get\n",
      "[1, 2, 2, 3, 5, 6]\n",
      "\n",
      "For example number 2,if we combine [1] and [] we get\n",
      "[1]\n",
      "\n",
      "For example number 3,if we combine [] and [1] we get\n",
      "[1]\n",
      "\n",
      "Extra example, if we combine [1, 2, 3] and [5, 6, 7] we get\n",
      "[1, 2, 3, 5, 6, 7]\n",
      "\n"
     ]
    }
   ],
   "source": [
    "for n, example in examples.items():\n",
    "    num1=example[0]\n",
    "    num2=example[1]\n",
    "    combination=comb_list(nums1=num1,nums2=num2,m=len(num1),n=len(num2))\n",
    "    if n==4:\n",
    "        print(f'Extra example, if we combine {num1} and {num2} we get\\n{combination}\\n')\n",
    "    else:\n",
    "        print(f'For example number {n},if we combine {num1} and {num2} we get\\n{combination}\\n')"
   ]
  },
  {
   "cell_type": "markdown",
   "metadata": {},
   "source": [
    "## 3 Encuentra cúmulos de patrones en genomas"
   ]
  },
  {
   "cell_type": "markdown",
   "metadata": {},
   "source": [
    "Considera que una secuencia de ADN se representa como una cadena de caracteres de Python con elementos ’A’ (Adenina), ’C’ (Citocina), ’T’ (Timina) y ’G’ (Guanina).\n",
    "\n",
    "Dados dos enteros L y t, una secuencia de ADN pattern forma un (L, t)-cúmulo en una secuencia de ADN más grande genome si existe una región contigua de genome con longitud L donde pattern aparece al menos t veces.\n",
    "\n",
    "Encuentra el conjunto de secuencias de ADN de longitud k que forman (L, t)-cúmulos en una secuencia genome."
   ]
  },
  {
   "cell_type": "markdown",
   "metadata": {},
   "source": [
    "### functions"
   ]
  },
  {
   "cell_type": "code",
   "execution_count": 7,
   "metadata": {},
   "outputs": [],
   "source": [
    "def cumuluses(chars,L,i):\n",
    "    \"\"\"\n",
    "    Return the cumulus number i of size L.\n",
    "\n",
    "    :param chars: a string\n",
    "    :param L: lenght of the desired cumulus\n",
    "    :param i: iteration / number of cumulus\n",
    "    \"\"\"\n",
    "    i_cumul=chars[i:]\n",
    "    cumul=i_cumul[:L]\n",
    "    if len(cumul)==L:\n",
    "        return cumul"
   ]
  },
  {
   "cell_type": "code",
   "execution_count": 8,
   "metadata": {},
   "outputs": [],
   "source": [
    "def pattern(chars,k):\n",
    "    \"\"\"\n",
    "    Return the patterns of size k found on a string of characters.\n",
    "\n",
    "    :param chars: a string\n",
    "    :param k: size of the pattern\n",
    "    \"\"\"\n",
    "    # initial list\n",
    "    possible_patterns=[]\n",
    "\n",
    "    # lenght of gnomeq\n",
    "    char_size=len(chars)\n",
    "\n",
    "    # we get the i-th cumul\n",
    "    for i in range(char_size-k+1):\n",
    "        current_cumul=cumuluses(chars,k,i)\n",
    "        possible_patterns.append(current_cumul)\n",
    "        \n",
    "    return possible_patterns"
   ]
  },
  {
   "cell_type": "code",
   "execution_count": 9,
   "metadata": {},
   "outputs": [],
   "source": [
    "def count_patterns(patterns,unique_patterns,t):\n",
    "    patterns_desired=[]\n",
    "\n",
    "    # for every unique pattern\n",
    "    for pattern in unique_patterns:\n",
    "        # we count the times that it appears in the original patterns list\n",
    "        pattern_count = patterns.count(pattern)\n",
    "\n",
    "        # if it satisfies our criteria, we append it\n",
    "        if pattern_count>=t:\n",
    "            patterns_desired.append(pattern)\n",
    "    return patterns_desired"
   ]
  },
  {
   "cell_type": "code",
   "execution_count": 10,
   "metadata": {},
   "outputs": [],
   "source": [
    "def find_patterns(gnome, k, L, t):\n",
    "    \"\"\"\n",
    "    Returns the desired sequence that meet the criteria of the problem if it exists.\n",
    "\n",
    "    :param gnome: a string representing a genome sequence\n",
    "    :param k: lenght of the desired sequence\n",
    "    :param L: lenght of the gnome string sections to check for the desired sequence\n",
    "    :param t: times that the desired sequence must be repeated\n",
    "    \"\"\"\n",
    "    g_l=len(gnome)\n",
    "    result=[]\n",
    "\n",
    "    # we get the i-th cumul\n",
    "    for i in range(g_l-L+1):\n",
    "        # i cumulus\n",
    "        current_cumul=cumuluses(gnome,L,i)\n",
    "        \n",
    "        # patterns in that cumulus\n",
    "        patterns=pattern(current_cumul,k)\n",
    "        unique_patterns=set(patterns)\n",
    "\n",
    "        # count \n",
    "        list=count_patterns(patterns,unique_patterns,t)\n",
    "        \n",
    "        # if not empty\n",
    "        if list:\n",
    "            for item in list:\n",
    "                result.append(item)\n",
    "    return set(result)"
   ]
  },
  {
   "cell_type": "markdown",
   "metadata": {},
   "source": [
    "### initial values"
   ]
  },
  {
   "cell_type": "code",
   "execution_count": 15,
   "metadata": {},
   "outputs": [],
   "source": [
    "inputs={\n",
    "    'example':{\n",
    "        'gnome':'GATCAGCATAAGGGTCCCTGCAATGCATGACAAGCCTGCAGTTGTTTTAC',\n",
    "        'k':4,\n",
    "        'L':25,\n",
    "        't':3\n",
    "        },\n",
    "    'input1':{\n",
    "        'gnome':'CGGACTCGACAGATGTGAAGAAATGTGAAGACTGAGTGAAGAGAAGAGGAAA'\\\n",
    "            'CACGACACGACATTGCGACATAATGTACGAATGTAATGTGCCTATGGC',\n",
    "        'k':5,\n",
    "        'L':75,\n",
    "        't':4\n",
    "        },\n",
    "    'input2':{\n",
    "        'gnome':'AAAACGTCGAAAAA',\n",
    "        'k':2,\n",
    "        'L':4,\n",
    "        't':2\n",
    "        },  \n",
    "    'input3':{\n",
    "        'gnome':'ACGTACGT',\n",
    "        'k':1,\n",
    "        'L':5,\n",
    "        't':2\n",
    "        },\n",
    "    'input4':{\n",
    "        'gnome':'CCACGCGGTGTACGCTGCAAAAAGCCTTGCTGAATCAAATAAGGTTCCAGCACATCC'\\\n",
    "            'TCAATGGTTTCACGTTCTTCGCCAATGGCTGCCGCCAGGTTATCCAGACCTACAGGTCCAC'\\\n",
    "                'CAAAGAACTTATCGATTACCGCCAGCAACAATTTGCGGTCCATATAATCGAAACCTT'\\\n",
    "                    'CAGCATCGACATTCAACATATCCAGCG',\n",
    "        'k':3,\n",
    "        'L':25,\n",
    "        't':3\n",
    "        },\n",
    "    'input5':{\n",
    "        'gnome':'GCGGTTATGCACCGTTCAAATTAGCAAACCACTAAGCGACGTAGTCTGGATTGATTTCTCCCTACCAGTGACCCAAGACGCGTTAGTGAGTTAAGTTCATATCCAGTACCTGCCGCCCTCTGTACTTGGGCGTCCGATTCGCATGCTTACTCAGGTGGAGGACACGATAATCTGATTAAACTGAGCTAAACCAGGTGGAACCAGAAACCAGGTGGGGAGTCTCGCTTCAAGCCGTTCTTGCGATCAAACCAGGTGGTCCATTATGAAACCAGGTGGCTAAACCAGGTGGTCCAGATCCTCGAATGATGTCGGTGCACATCAAAACCAGGTGGGGTGGTGGAACGTAAAACCAGGTGGCATAAACCAGGTGGGCCGGTTCGTAAACCAGGTGAAACCAGGTGGGGTGGAAACCAGGTGGGTTACAAATTACGTTGAGATGGCCCAAACCAGGTGGTGGGCTTCACCCATGTCAACAAACCACCCTATGGAACTAAACCAGGTGGAACCAGGTGGTGAAGGCTTATCCTCAGGAAAAACCAGGTGGAGGTGGTGAAATAAAACCAGGTGGACCAGGTGGATAACCCTCGCCTCGCTTCTCAACCGAGACCTGGATAAACCAGGTGGGGTGGTCCACCGATTTTTGAGACACTAGAAACCAGGTGGGCGGGGAAACCAGGTGGCAAACCAGGTGGGGTGGACGGAAACCAGGTGGATATGTCATAAAACCAAACCAGGTGGTGCACCCCCATGGTGTGTCTTATCCGTGCGTATAAACCAGGTGGTCGCACGGCTTCCACTTGCTGAGAATAGGCCCGCAGGGTCAGTGCCATGCCCTCCGTCACTCGATATGTGTTGTAAGAGTGGTTACCCCTTCATTGAAGTCGCCCACAGCCCCACCTGCATTGCTAGACTATCACCCTACAGTAGGCCTTTTCGCCTTCTTCAAGCAGCAATCTCTTATCCGCGGATGGGCGCGGCGAGCGTGGCGTCCCCGAACATTTTTACCTAACGTGTTTTGTTGGCCGCAAGCCTTCCCTCTAGTCCACCTCAGCCATTCAGCCTAGTAGCTTTCAAGCCGAGCCTTCCATATCTAATGGACCGTCCAGAATTTCACACGTTTCACAGGGCTGTGTTCGACCGCCCGTAATGCTGTTTCACAGGCGATCGCCTTGCGGTTTTTTCACAGATCGCAGCCGATGGACATGCCAACTCGATTTTCACAGAGTTTTTCACAGCGGTTTCACAGCACAGCAGTGATTGTTTCACAGCAATTTTCACTTTCACAGGGGCCCTTTTCACAGCTCAGGGCTCTTTTCACTTTCACAGTTTCACAGCGCTCCTTTCACAGAGCGGGGAAATTTAAGGGAACACTCAAGGGAACAAGGGAACACACAAAGGGAACACAACACAACACATAAGGGAACACTTTCACAGAACACAAAAGTCCGAAATCATCAGCGGCGAAGGGATTTCACAGACAGACACTTTCACAGCGCATTTCACAGATACGTACTTTCACAGGCGTACTTTCACAGACTTTCACAGAGGACAAGCTCAATTTTCACAGACAGGCTGGATAAATTTCACAGCGGTAAGGGTTTCACAGCACACATAAGGGAACACGAATTTCACAGCAGGGAACACCTCTACGAGTAATCTATTACTCTACCTACTGAAGGGAACACACCGAAGACCTACTATTACCTATTACTCTTAAAGGGAACACATTACAAGGGAACACACTCTCTCGTCATATCTCACCTCTCTATTACTCTTAAGGGAACACCTTCTCGATCAACCTATTACTCTATGGAGATAGAGATATTCCAGACATATGGAGATAACATGGAGATATGGAGATAATGGAGATGGAGATAGCTCTTATATTTATCCTATGGAGATATGATACTATTAATGGAGATAATTCTAATGGAGATATAATTACTCTAAGAGGATGGGATCTCGGGCTATTACTCTAATGGAGATAAGCACTATTACTCTAGGAAATGGAGATATGTCAATGGAGATATGTAATGGAGATAGAGGGAGATGGAGTCGCCATTTCATAATCGCCATTTCATAGTTCAGGAATCGCCATTTCCGCCATTTCTAAGATGGAGTCGCCATTTCTACGTATGGAGATAGGATCGCCATTTCATACGACCCGTTGGATATCGCCATTTCCTCGCCATTTCTGGTGACATTTCTCGCCATTTCATTTCTGGAGATAGATGGATCTCGCCATTTCATAGGAATCGCCATTTCCACGTAGGGGGGGCCACAATCCGTAGGTCGGAATTCAGACTCGCCATTTCCCATCGCCATTTCTTCACCTGTATGCCGATCCCTTCGCCATTTCTCATGGAGATAACTCTCTCTCGCCATTTCTCGCCATTTCCATTTCACTCTCATTCGCCATCGCCATTTCCATTCGCCATTTCATCGCCATTTCTTCAGGATAAGATATCGCCATTTCGACTCTCATTCGCATACTGACTCTCATTCTCATCTCGCCATTTCTCATCTGACTCTCATCCTGGGGGAAACTTGCGACTCTCATCACACTTCCGTCGACTCTCATACTGGCGGATAGCATAGGAGCCATTTAAAGACTCTCATTCTCATTCGAGACTCTCATTCAAATCCTACGAGGACTCTCATATAGACTCTCATATCATTACGAGGACTCTCATATACGAGCCATGCATGTGGCGACGACTCTCATCTACGAGCCATGCAAGCAGAATCTACGAGCGACTCTCATTACGAGCCATGTGACCGTACGAGCCATGCATGCATGCCATGCTGACTCTCATCGAGTACGAGCCATGGAAGTTCTTGTTGGTTCGTAGCCCAAGAGCTGAAGTTACGAGCCTACGAGCCATGAAGTTACTTTTACGAGCCATGAAGCTTACGATACGAGCCATGCGAGCCATGCATCCGCGCTACGAGCCATGTTCCAGTACGAGCCATGTTAGTTGCTGAAGTTAAGTTTGGCGCTGAAGTTTGTACGAGCCATGTGCCCGCTGAAGTTTGTTGTACGAGCCATGCATGCTGAAGTTAATGGCTGAAGTTAGCGTTTGCGGGCAGATCCTCATTCTACGATACGAGCCATGCCATGCAGCTGAAGTTAAGTTGGGTTACGAGCCATGCGAGCCATGTGAAGTACGAGCCATGCTGGCTGAAGTTGTTTGTGCTGCTGAAGTTGCTCTTGTCTCTAGCTGAAGTTGCCAACAGGGCTGAAGCTGAAGTTTAAGCTGAAGTTGCGAGCAGGCTGAAGTTATCGGATTGGGGCTGAAGTTCAACCTCCCGTCCCCCCACACTATATTCCCGTCCCCCCCCGCGCACGCGCCGTCTCCCGTCCCCCCTATCCCGTGCGCACGCGACGCGATCCCGTCCCCCCAGAGTGCGCGCACGCGTCCCCCTTCCCGTCCCCCTCTCCCGGGCGCACGCGTCGCTCAACATTTCCGCGCACGCGTCGCGCACGCGGGCGCACGCGGGTCCCGTCCCCCCCCCTCTTCGGCGCACGCGGAATTCCCGTCGCGCACGCGTCCCGTCCCGCGCACGCGTCGCGCACGCGACTGCCCTAACCAACAGTGCGCACGCGCCGGTAACCCGGTAACCCGGTAACCGCGCACGCGGGCGCACGCGCGTAACCCGCGCACGCGCCGCGCACGCGGCCCGGTTCCCGTCCCCCCCGGTAACCCGGTAACTCCCGTCCCCCGTAACCCGGTGCGCACGCGCCCGGCGCACGCGGAGCGCACGCGCCCCCCCCGGTAATAGCGCACGCGCCCGGGCGCACGCGCCCGGTAACCCGGTAACCCGGGCGCGCGCACGCGGCGGCGCACGCGGCGCACGCGGCGCACGCG',\n",
    "        'k':11,\n",
    "        'L':566,\n",
    "        't':18\n",
    "        }\n",
    "}"
   ]
  },
  {
   "cell_type": "markdown",
   "metadata": {},
   "source": [
    "### solve"
   ]
  },
  {
   "cell_type": "code",
   "execution_count": 16,
   "metadata": {},
   "outputs": [
    {
     "name": "stdout",
     "output_type": "stream",
     "text": [
      "example\n",
      "{'TGCA'}\n",
      "\n",
      "\n",
      "input1\n",
      "{'CGACA', 'GAAGA', 'AATGT'}\n",
      "\n",
      "\n",
      "input2\n",
      "{'AA'}\n",
      "\n",
      "\n",
      "input3\n",
      "{'T', 'A', 'G', 'C'}\n",
      "\n",
      "\n",
      "input4\n",
      "{'CCA', 'GCC', 'CAG', 'AAA', 'TTC', 'CAT'}\n",
      "\n",
      "\n",
      "input5\n",
      "{'AAACCAGGTGG'}\n",
      "\n",
      "\n"
     ]
    }
   ],
   "source": [
    "parameters=['gnome','k','L','t']\n",
    "\n",
    "for key, value in inputs.items():\n",
    "    print(f'{key}')\n",
    "    patterns=find_patterns(value['gnome'], value['k'], value['L'], value['t'])\n",
    "    if patterns:\n",
    "        print(patterns)\n",
    "    print('\\n')"
   ]
  }
 ],
 "metadata": {
  "kernelspec": {
   "display_name": "Python 3",
   "language": "python",
   "name": "python3"
  },
  "language_info": {
   "codemirror_mode": {
    "name": "ipython",
    "version": 3
   },
   "file_extension": ".py",
   "mimetype": "text/x-python",
   "name": "python",
   "nbconvert_exporter": "python",
   "pygments_lexer": "ipython3",
   "version": "3.11.9"
  }
 },
 "nbformat": 4,
 "nbformat_minor": 2
}
