{
 "cells": [
  {
   "cell_type": "markdown",
   "id": "f97d35f6-3c48-47c9-9065-537e79fce891",
   "metadata": {},
   "source": [
    "En esta libreta intento presentar un panorama de la programación orientada a objetos en Python para ciencia de datos.\n",
    "\n",
    "La **programación orientada a objetos** (**POO**) es un poderoso y versátil paradigma que puede beneficiar la organización, mantenimiento y escalabilidad de los programas que escribas para resolver problemas de ciencia de datos.\n",
    "\n",
    "*Nota:* No todos los científicos de datos programan en su día a día, y no todos los que programan lo hacen con el paradigma orientado a objetos. No necesitas ser un experto en este tema, pero entender los conceptos básicos te permitirá escribir código más limpio, reusable y fácil de modificar con el tiempo.\n",
    "\n",
    "De la página oficial de la Maestría de Ciencia de Datos, retomo:\n",
    "\n",
    "-----\n",
    "El proceso que sigue un científico de datos para resolver algún problema que se le plantea se puede resumir en estos pasos:\n",
    "\n",
    "- **Extraer los datos**, independientemente de la fuente y de su volumen. Muchas veces es necesario complementar con otros tipos de datos que ayuden a resolver el problema de que se pretende resolver.\n",
    "- **Limpiar y completar los datos**, para eliminar lo que pueda sesgar los resultados e incluir información que de momento no se tiene.\n",
    "- **Procesar los datos** usando métodos: estadísticos, de aprendizaje automático, métodos heurísticos, etcétera.\n",
    "- **Diseñar experimentos** adicionales para aumentar la información que nos proporcionan los datos.\n",
    "- **Crear visualizaciones gráficas** de los datos relevantes para la resolución del problema.\n",
    "-----\n",
    "\n",
    "Quizás en la mayoría de los casos, el escribir programas de computadora en Python para atacar estos pasos, utilizarás bibliotecas y programas escritos por otras personas.\n",
    "\n",
    "Sin embargo, también es probable que te encuentres en situaciones donde debas automatizar un proceso, adecuar un programa existente a tus necesidades, o construir métodos más eficientes para resolver los problemas específicos en los que trabajes. Tienes en Python una herramienta para lograr esto y en la POO un conjunto de modelos, principios y técnicas para lograr esto de manera efectiva."
   ]
  },
  {
   "cell_type": "markdown",
   "id": "d8fb264a-ba8f-48d2-a5dc-006751a52e28",
   "metadata": {},
   "source": [
    "# Terminología\n",
    "\n",
    "En la POO se utiliza alguna terminología para diseñar e implementar programas.\n",
    "\n",
    "Recuerda que el propósito central de un paradigma de programación es acercar el proceso computacional que se ejecuta en la computadora a las ideas, modelos mentales y vocabulario con el que pensamos el problema."
   ]
  },
  {
   "cell_type": "markdown",
   "id": "36da7994-fb3b-45f0-a122-120d6f9dee94",
   "metadata": {},
   "source": [
    "## Objetos\n",
    "\n",
    "Los **objetos** son el concepto central de la POO, son las entidades abstractas que conforman nuestros programas.\n",
    "\n",
    "Ya has utilizado objetos en Python, considera cualquier valor"
   ]
  },
  {
   "cell_type": "code",
   "execution_count": 170,
   "id": "050c87fa-929b-404c-bc09-da16b0e0ce55",
   "metadata": {},
   "outputs": [],
   "source": [
    "obj = 42"
   ]
  },
  {
   "cell_type": "markdown",
   "id": "ed88487a-8e18-4f4f-879b-19fbc791422c",
   "metadata": {},
   "source": [
    "Los objetos contienen información en forma de **campos** (también llamados atributos) y **programas** en forma de métodos"
   ]
  },
  {
   "cell_type": "code",
   "execution_count": 171,
   "id": "af3771c7-045a-4175-978f-b0681c4be493",
   "metadata": {},
   "outputs": [
    {
     "data": {
      "text/plain": [
       "42"
      ]
     },
     "execution_count": 171,
     "metadata": {},
     "output_type": "execute_result"
    }
   ],
   "source": [
    "# leemos el campo `numerator` de un objeto numérico (entero)\n",
    "obj.numerator"
   ]
  },
  {
   "cell_type": "code",
   "execution_count": 172,
   "id": "12b6e613-4b4b-4a0a-aa50-0e4fe20b70b2",
   "metadata": {},
   "outputs": [
    {
     "data": {
      "text/plain": [
       "1"
      ]
     },
     "execution_count": 172,
     "metadata": {},
     "output_type": "execute_result"
    }
   ],
   "source": [
    "# leemos el campo `denominator` de un objeto numérico (entero)\n",
    "obj.denominator"
   ]
  },
  {
   "cell_type": "markdown",
   "id": "834daa99-ce69-4910-81b7-549b033c9641",
   "metadata": {},
   "source": [
    "¿Por qué los enteros tienen un campo de denominador? ¡Siempre va a ser `1`!\n",
    "\n",
    "La respuesta a esta pregunta la discutiremos en un ratito.\n",
    "\n",
    "Por el momento, consideremos algunos métodos de los enteros."
   ]
  },
  {
   "cell_type": "code",
   "execution_count": 173,
   "id": "d6377f79-c4c0-4ec0-ac5c-6d777380d460",
   "metadata": {},
   "outputs": [
    {
     "data": {
      "text/plain": [
       "6"
      ]
     },
     "execution_count": 173,
     "metadata": {},
     "output_type": "execute_result"
    }
   ],
   "source": [
    "# calculamos la cantidad de bits necesarias para representar el número\n",
    "obj.bit_length()"
   ]
  },
  {
   "cell_type": "markdown",
   "id": "4529488c-72c9-4b6e-bfc0-1bf2e4c62cd7",
   "metadata": {},
   "source": [
    "Si `<obj>` es un objeto, `<field>` uno de sus campos y `<method>` uno de sus métodos, entonces:\n",
    "- `<obj>.<field>` nos permite leer el valor del campo\n",
    "- `<obj>.<method>()` nos permite invocar el programa del método\n",
    "\n",
    "Los métodos pueden recibir información adicional al objeto por medio de argumentos. Consideremos un objeto distinto, una cadena de caracteres."
   ]
  },
  {
   "cell_type": "code",
   "execution_count": 174,
   "id": "e7d8ab34-a3a8-4978-980a-20b4d35eeaa6",
   "metadata": {},
   "outputs": [],
   "source": [
    "obj = \"¡ciencia de datos!\""
   ]
  },
  {
   "cell_type": "markdown",
   "id": "e881368d-1ff5-462d-b3b1-6c40b73f46a2",
   "metadata": {},
   "source": [
    "Los objetos que son cadenas de caracteres no tienen ningún campo que podamos leer, esta es una técnica común en el diseño de código con la POO, en un ratito más discutiremos por qué y otras técnicas.\n",
    "\n",
    "Sin embargo, las cadenas de caracteres si tienen métodos, ¡y son bastante útiles!"
   ]
  },
  {
   "cell_type": "code",
   "execution_count": 175,
   "id": "2a6159c1-0c30-4f51-907b-a62b129d82c9",
   "metadata": {},
   "outputs": [
    {
     "data": {
      "text/plain": [
       "'¿ciencia de datos!'"
      ]
     },
     "execution_count": 175,
     "metadata": {},
     "output_type": "execute_result"
    }
   ],
   "source": [
    "# calculamos una cadena con los signos de ¡ reemplazados por ¿\n",
    "obj.replace(\"¡\", \"¿\")"
   ]
  },
  {
   "cell_type": "markdown",
   "id": "b488042a-3dff-40db-8de0-a0613471dd14",
   "metadata": {},
   "source": [
    "Algunos métodos van a modificar el objeto, mientras que otros dejan el objeto intacto pero producen un objeto nuevo. El método `replace` es de estos últimos."
   ]
  },
  {
   "cell_type": "code",
   "execution_count": 176,
   "id": "294119c9-1583-42db-8709-09012c468685",
   "metadata": {},
   "outputs": [
    {
     "data": {
      "text/plain": [
       "'¡ciencia de datos!'"
      ]
     },
     "execution_count": 176,
     "metadata": {},
     "output_type": "execute_result"
    }
   ],
   "source": [
    "# el objeto original queda igualito\n",
    "obj"
   ]
  },
  {
   "cell_type": "markdown",
   "id": "a7a8bec9-b6d8-42e1-a649-81ead5d5fd52",
   "metadata": {},
   "source": [
    "Ya que el método calcula una cadena de caracteres, también podemos invocar sobre esta cadena el método `replace`."
   ]
  },
  {
   "cell_type": "code",
   "execution_count": 177,
   "id": "768c718b-4317-4bb7-b32f-eeb06cdd6a5b",
   "metadata": {},
   "outputs": [
    {
     "data": {
      "text/plain": [
       "'¿ciencia de datos?'"
      ]
     },
     "execution_count": 177,
     "metadata": {},
     "output_type": "execute_result"
    }
   ],
   "source": [
    "# reemplazamos en obj y luego reemplazamos en la cadena resultante\n",
    "# del primer reemplazo\n",
    "(obj.replace(\"¡\", \"¿\")).replace(\"!\", \"?\")"
   ]
  },
  {
   "cell_type": "markdown",
   "id": "6340cdaf-6b90-4f94-9140-1dfb6bd23290",
   "metadata": {},
   "source": [
    "Podemos omitir los paréntesis de agrupación y simplemente escribir:"
   ]
  },
  {
   "cell_type": "code",
   "execution_count": 178,
   "id": "f72c405d-1b0b-4ddc-8784-fa22ac0c9c8e",
   "metadata": {},
   "outputs": [
    {
     "data": {
      "text/plain": [
       "'¿ciencia de datos?'"
      ]
     },
     "execution_count": 178,
     "metadata": {},
     "output_type": "execute_result"
    }
   ],
   "source": [
    "obj.replace(\"¡\", \"¿\").replace(\"!\", \"?\")"
   ]
  },
  {
   "cell_type": "markdown",
   "id": "297f1c13-2a29-4677-b441-3fb4fc5f9662",
   "metadata": {},
   "source": [
    "Podremos cuestionarnos, ¿Por qué usar métodos cuando ya tenemos **funciones**? ¿Por qué a veces usamos funciones en lugar de métodos?\n",
    "\n",
    "Consideremos la función `len`."
   ]
  },
  {
   "cell_type": "code",
   "execution_count": 179,
   "id": "8874f993-b93f-4082-91eb-1341e076c563",
   "metadata": {},
   "outputs": [
    {
     "data": {
      "text/plain": [
       "18"
      ]
     },
     "execution_count": 179,
     "metadata": {},
     "output_type": "execute_result"
    }
   ],
   "source": [
    "# calcula la cantidad de caracteres en la cadena\n",
    "len(obj)"
   ]
  },
  {
   "cell_type": "markdown",
   "id": "ff050694-80c3-40bd-a5da-64bea7df7168",
   "metadata": {},
   "source": [
    "Esta función opera sobre objetos de distintos tipos, en realidad su propósito es calcular la *longitud* de un objeto. En el caso de las cadenas esto corresponde a la cantidad de caracteres, pero en el caso de listas esto corresponde a la cantidad de elementos."
   ]
  },
  {
   "cell_type": "code",
   "execution_count": 180,
   "id": "d2d873aa-d552-409f-ac6b-7e659b4eae36",
   "metadata": {},
   "outputs": [],
   "source": [
    "obj = [\"ciencia\", \"de\", \"datos\"]"
   ]
  },
  {
   "cell_type": "code",
   "execution_count": 181,
   "id": "d6233bc7-1c13-4159-8eef-e2f3890c37ce",
   "metadata": {},
   "outputs": [
    {
     "data": {
      "text/plain": [
       "3"
      ]
     },
     "execution_count": 181,
     "metadata": {},
     "output_type": "execute_result"
    }
   ],
   "source": [
    "# calcula la cantidad de elementos en la lista\n",
    "len(obj)"
   ]
  },
  {
   "cell_type": "markdown",
   "id": "7958800c-0fd3-40ce-8f09-aa320f1e422e",
   "metadata": {},
   "source": [
    "En cada dominio del conocimiento, o modelo, o problema, el criterio de *la longitud* de un objeto puede ser diferente.\n",
    "\n",
    "Python usa el método `__len__` de cada objeto para que el criterio usado sea el adecuado."
   ]
  },
  {
   "cell_type": "code",
   "execution_count": 182,
   "id": "5332ddc9-e0cf-4c4b-b713-109ce6d2023d",
   "metadata": {},
   "outputs": [
    {
     "data": {
      "text/plain": [
       "3"
      ]
     },
     "execution_count": 182,
     "metadata": {},
     "output_type": "execute_result"
    }
   ],
   "source": [
    "obj.__len__()"
   ]
  },
  {
   "cell_type": "markdown",
   "id": "18a4d873-9b78-4a58-8b71-fcf94e16a0e5",
   "metadata": {},
   "source": [
    "Cuando modelamos nuestro problema con POO podemos especificar precisamente a qué nos referimos con longitud. Es decir, acercamos el proceso computacional hacia nuestra mente, y no nuestra mente hacia la computadora."
   ]
  },
  {
   "cell_type": "markdown",
   "id": "067fcf1f-67c0-4856-bac1-7580e701dcba",
   "metadata": {},
   "source": [
    "## Clases\n",
    "\n",
    "Una **clase** es una plantilla para crear objetos. Nos permiten definir la estructura y el comportamiento de un conjunto de objetos con los que nos interesa trabajar.\n",
    "\n",
    "En el contexto de ciencia de datos, una clase puede representar cosas como:\n",
    "- Una fuente de donde extraer datos\n",
    "- Una estrategia o criterio para limpiar datos\n",
    "- Un proceso de canalización de datos para el procesamiento\n",
    "- Un método estadístico parametrizado\n",
    "- Un estilo de visualización, o el medio en donde representar visualizaciones\n",
    "\n",
    "Un patrón muy utilizado es el de representar un modelo de aprendizaje automático con una clase.\n",
    "\n",
    "Consideremos un modelo de aprendizaje supervisado, el cuál tiene dos parámetros `param1` y `param2`. En el aprendizaje supervisado, nos interesa tomar un conjunto de datos etiquetados, ajustar el modelo a los datos una vez y luego realizar predicciones muchas veces sobre datos no etiquetados.\n",
    "\n",
    "Identificamos entonces que los parámetros nos describen un conjunto de modelos, en donde nos interesa programar dos comportamientos presentes en todos:\n",
    "- ajustar (`fit`)\n",
    "- predecir (`predict`)"
   ]
  },
  {
   "cell_type": "code",
   "execution_count": 183,
   "id": "f9e94312-6774-493f-86e6-c4de7710e219",
   "metadata": {},
   "outputs": [],
   "source": [
    "class SupervisedLearningModel:\n",
    "    def __init__(self, param1, param2 = 0.1):\n",
    "        self.param1 = param1\n",
    "        self.param2 = param2\n",
    "\n",
    "    def fit(self, data, labels):\n",
    "        # aquí escribimos el programa para ajustar el modelo\n",
    "        # a los datos etiquetados.\n",
    "        pass\n",
    "\n",
    "    def predict(self, data):\n",
    "        # aquí escribimos el programa para predecir las etiquetas\n",
    "        # de los datos nuevos.\n",
    "        pass"
   ]
  },
  {
   "cell_type": "markdown",
   "id": "0277426f-5257-483d-93f2-59b8bfe83f51",
   "metadata": {},
   "source": [
    "El proceso de crear un objeto a partir de una clase se llama **instanciación**. Esto lo hacemos invocando el nombre de la clase como si fuera una función, pasando los parámetros del modelo como argumentos."
   ]
  },
  {
   "cell_type": "code",
   "execution_count": 184,
   "id": "1c9e417a-2c79-473b-aa03-6852d702b6a5",
   "metadata": {},
   "outputs": [],
   "source": [
    "model = SupervisedLearningModel(0.5)"
   ]
  },
  {
   "cell_type": "markdown",
   "id": "89328c2a-f826-4905-a56f-ce428255a506",
   "metadata": {},
   "source": [
    "Entonces, los parámetros son campos del modelo."
   ]
  },
  {
   "cell_type": "code",
   "execution_count": 185,
   "id": "4e067a4e-d85d-459d-b93a-b1e5f34d4284",
   "metadata": {},
   "outputs": [
    {
     "data": {
      "text/plain": [
       "0.5"
      ]
     },
     "execution_count": 185,
     "metadata": {},
     "output_type": "execute_result"
    }
   ],
   "source": [
    "model.param1"
   ]
  },
  {
   "cell_type": "code",
   "execution_count": 186,
   "id": "8d0edcf9-39d6-4c20-bc22-7e76fd3855e3",
   "metadata": {},
   "outputs": [
    {
     "data": {
      "text/plain": [
       "0.1"
      ]
     },
     "execution_count": 186,
     "metadata": {},
     "output_type": "execute_result"
    }
   ],
   "source": [
    "model.param2"
   ]
  },
  {
   "cell_type": "markdown",
   "id": "7b059872-68fc-4da3-8482-636c464c683d",
   "metadata": {},
   "source": [
    "Y los procesos de ajustar y predecir son métodos del modelo."
   ]
  },
  {
   "cell_type": "code",
   "execution_count": 187,
   "id": "d0ceafed-f8e8-4ce5-bf61-6ef7eb53ae48",
   "metadata": {},
   "outputs": [
    {
     "data": {
      "text/plain": [
       "<bound method SupervisedLearningModel.fit of <__main__.SupervisedLearningModel object at 0x00000204CC981190>>"
      ]
     },
     "execution_count": 187,
     "metadata": {},
     "output_type": "execute_result"
    }
   ],
   "source": [
    "model.fit"
   ]
  },
  {
   "cell_type": "code",
   "execution_count": 188,
   "id": "d1f66df8-a6d6-4bfc-accd-bd9a378f46cb",
   "metadata": {},
   "outputs": [
    {
     "data": {
      "text/plain": [
       "<bound method SupervisedLearningModel.predict of <__main__.SupervisedLearningModel object at 0x00000204CC981190>>"
      ]
     },
     "execution_count": 188,
     "metadata": {},
     "output_type": "execute_result"
    }
   ],
   "source": [
    "model.predict"
   ]
  },
  {
   "cell_type": "markdown",
   "id": "1a7d50d5-a68f-4078-9e72-088cc17b0f18",
   "metadata": {},
   "source": [
    "El método que programamos en la clase llamado `__init__` es un método especial, también llamado inicializador) que es invocado cuando instanciamos un objeto de esta clase. Es utilizado para asignar valores a los campos del objeto."
   ]
  },
  {
   "cell_type": "markdown",
   "id": "562a2acc-4961-4bb7-aa08-4977f3d56006",
   "metadata": {},
   "source": [
    "Este es un bosquejo, entonces nuestro modelo no hace nada interesante..."
   ]
  },
  {
   "cell_type": "markdown",
   "id": "2de8dfd5-02c1-4468-8065-af3156410cd6",
   "metadata": {},
   "source": [
    "## Encapsulamiento\n",
    "\n",
    "El **encapsulamiento** es otro concepto central en la POO, consiste en empaquetar datos (campos) y los metodos que operan sobre ellos dentro de una clase, ocultando los detalles de qué información usa el objeto para realizar los cálculos.\n",
    "\n",
    "En el ejemplo anterior, cuando creamos un modelo particular, queremos usar de vocabulario los términos `fit` y `predict` en lugar de pensar en la manera en que estos están programados, o en qué calculos realiza con los parámetros.\n",
    "\n",
    "El encapsulamiento también mejora la organización del código y hace más fácil modificarlo."
   ]
  },
  {
   "cell_type": "markdown",
   "id": "75db06b3-c47c-4844-b340-77551f77d276",
   "metadata": {},
   "source": [
    "## Herencia\n",
    "\n",
    "La **herencia** se refiere a que podemos crear clases (hijo) que contengan los campos y métodos de otra clase (padre).\n",
    "\n",
    "En el ejemplo anterior, existen muchos tipos de modelos de aprendizaje supervisado, pero todos ellos contienen al menos los métodos `fit` y `predict`, podemos crear una jerarquía de modelos, donde se comparta vocabulario y funcionalidad."
   ]
  },
  {
   "cell_type": "markdown",
   "id": "469c5233-f630-45ca-a5ec-cefde27327cb",
   "metadata": {},
   "source": [
    "## Polimorfismo\n",
    "\n",
    "El **polimorfismo** (etimología *muchas formas*) se refiere a la capacidad de tratar objetos de distintas clases como si fueran de la misma.\n",
    "\n",
    "Por ejemplo, podemos escribir código genérico que trabaje con un modelo de aprendizaje supervisado sin conocer precisamente qué tipo de modelo es, utilizando solamente los métodos `fit` y `predict`.\n",
    "\n",
    "Pensemos también en el método `__len__`, cada clase distinta puede establecer su criterio de longitud a ser utilizado en otras partes de nuestros programas."
   ]
  },
  {
   "cell_type": "markdown",
   "id": "2506a204-37ee-463f-b254-084381a641f5",
   "metadata": {},
   "source": [
    "# Problema de ejemplo\n",
    "\n",
    "Consideremos un problema de análisis de sentimientos para la clasificación de reseñas de películas.\n",
    "\n",
    "Para este ejemplo consideramos que las reseñas son cadenas de caracteres y la calificación puede ser positiva con valor `+1` o negativa con valor `-1`."
   ]
  },
  {
   "cell_type": "code",
   "execution_count": 189,
   "id": "472a23f0-ef9e-4d1e-960e-d5e5debc1517",
   "metadata": {},
   "outputs": [],
   "source": [
    "training_data = [\n",
    "    (\"not good\",       -1),\n",
    "    (\"pretty bad\",     -1),\n",
    "    (\"good plot\",      +1),\n",
    "    (\"pretty scenery\", +1),\n",
    "]"
   ]
  },
  {
   "cell_type": "markdown",
   "id": "97974dd7-544c-4e60-ae7e-10e5e57529d4",
   "metadata": {},
   "source": [
    "Crea una clase `Corpus` que tome datos de entrenamiento, identifique cada palabra en las reseñas y les asigne un índice numérico único. La longitud de un `Corpus` es la cantidad de palabras."
   ]
  },
  {
   "cell_type": "code",
   "execution_count": 190,
   "id": "53283ef7-1f6d-4a51-96b2-6ebb94ec7a7b",
   "metadata": {},
   "outputs": [],
   "source": [
    "class Corpus:\n",
    "    def __init__(self, data):\n",
    "        # initial values\n",
    "        words_review = {}\n",
    "        index = 0\n",
    "        \n",
    "        # we assignt an index to every unique word in the data,\n",
    "        # since we dont use label, we use \"_\" as a placeholder\n",
    "        for (review, _) in data:\n",
    "            # we split the string by spaces into words\n",
    "            words=review.split(\" \")\n",
    "\n",
    "            # for every word\n",
    "            for word in words:\n",
    "                # if its not already in the dictionary of words (so they can be unique)\n",
    "                if word not in words_review.values():\n",
    "                    # we assign the word to an index\n",
    "                    words_review[index] = word\n",
    "                    # next index for next word\n",
    "                    index += 1\n",
    "        # we save the dictionary of index:word in a field called dic\n",
    "        self.dic=words_review\n",
    "\n",
    "    def index(self, word):\n",
    "        for key, value in self.dic.items():\n",
    "            if value==word:\n",
    "                return key\n",
    "        pass\n",
    "\n",
    "    def word(self, ind):\n",
    "        # ind being index\n",
    "        word = self.dic[ind]\n",
    "        return word\n",
    "\n",
    "    def __len__(self):\n",
    "        return len(self.dic)"
   ]
  },
  {
   "cell_type": "code",
   "execution_count": 191,
   "id": "610f6e66",
   "metadata": {},
   "outputs": [],
   "source": [
    "corpus_review=Corpus(training_data)"
   ]
  },
  {
   "cell_type": "code",
   "execution_count": 192,
   "id": "df63f7eb",
   "metadata": {},
   "outputs": [
    {
     "name": "stdout",
     "output_type": "stream",
     "text": [
      "Reviews as a dic:{0: 'not', 1: 'good', 2: 'pretty', 3: 'bad', 4: 'plot', 5: 'scenery'}\n",
      "\n",
      "Index of the word \"pretty\":2\n",
      "\n",
      "Word with index 1:good\n",
      "\n",
      "Lenght of elements(amounts of reviews) in reviews:6\n",
      "\n"
     ]
    }
   ],
   "source": [
    "print(f'Reviews as a dic:{corpus_review.dic}\\n')\n",
    "print(f'Index of the word \"pretty\":{corpus_review.index(\"pretty\")}\\n')\n",
    "print(f'Word with index 1:{corpus_review.word(1)}\\n')\n",
    "print(f'Lenght of elements(amounts of reviews) in reviews:{len(corpus_review)}\\n')"
   ]
  },
  {
   "cell_type": "markdown",
   "id": "db6bbe09-04fb-4790-8886-797c3beb14e6",
   "metadata": {},
   "source": [
    "Crea una clase llamada `Review` que represente una reseña, debe ser construida a partir de una cadena de caracteres y un `Corpus`, para representar cada reseña como un conteo de frecuencias de las palabras usando una lista con tantos elementos como longitud del `Corpus`."
   ]
  },
  {
   "cell_type": "code",
   "execution_count": 193,
   "id": "b9ebffdc",
   "metadata": {},
   "outputs": [],
   "source": [
    "class Review:\n",
    "    def __init__(self, string, corpus_data):\n",
    "        self.string=string\n",
    "        self.words=list(corpus_data.dic.values())\n",
    "        self.items=string.split(\" \")\n",
    "        count=0\n",
    "        for word in self.words:\n",
    "            count+=self.items.count(word)\n",
    "        self.count=count"
   ]
  },
  {
   "cell_type": "code",
   "execution_count": null,
   "id": "7a1430f8",
   "metadata": {},
   "outputs": [],
   "source": [
    "review = Review('that movie was pretty good but i did not like the part where the bad guy dies out of nowhere', corpus_review)"
   ]
  },
  {
   "cell_type": "code",
   "execution_count": 195,
   "id": "6f4fae36",
   "metadata": {},
   "outputs": [
    {
     "name": "stdout",
     "output_type": "stream",
     "text": [
      "The words in:\n",
      "     ['not', 'good', 'pretty', 'bad', 'plot', 'scenery'] \n",
      "appear in: \n",
      "     \"that movie was pretty good but i did not like the part where the bad guy dies out of nowhere\"\n",
      "4 times\n"
     ]
    }
   ],
   "source": [
    "print(f'The words in:\\n     {review.words} \\nappear in: \\n     \"{review.string}\"\\n{review.count} times')"
   ]
  },
  {
   "cell_type": "code",
   "execution_count": null,
   "id": "3f5633cf",
   "metadata": {},
   "outputs": [],
   "source": [
    "review = Review('was aight', corpus_review)"
   ]
  },
  {
   "cell_type": "code",
   "execution_count": 197,
   "id": "201dac78",
   "metadata": {},
   "outputs": [
    {
     "name": "stdout",
     "output_type": "stream",
     "text": [
      "The words in:\n",
      "     ['not', 'good', 'pretty', 'bad', 'plot', 'scenery'] \n",
      "appear in: \n",
      "     \"was aight\"\n",
      "0 times\n"
     ]
    }
   ],
   "source": [
    "print(f'The words in:\\n     {review.words} \\nappear in: \\n     \"{review.string}\"\\n{review.count} times')"
   ]
  },
  {
   "cell_type": "markdown",
   "id": "1be72107",
   "metadata": {},
   "source": [
    "Si entrenamos un modelo con esta representación de reseñas...\n",
    "\n",
    "¿Qué pasa cuando queremos predecir una reseña que contiene palabras no contempladas en el `Corpus`?\n",
    "\n",
    "¿Qué pasa cuando el `Corpus` tiene una longitud muy grande pero cada reseña es breve?\n",
    "\n",
    "Modifica tu clase `Review` para que sea llamada `DenseReview` y crea una clase llamada `SparseReview` que represente el conteo de frecuencias de las palabras en las reseñas usando diccionarios de Python.\n",
    "\n",
    "Ambas clases deben incluir el método `frequency` que toma una palabra y regresa la cantidad de veces que aparece en la reseña."
   ]
  },
  {
   "cell_type": "code",
   "execution_count": null,
   "id": "87f3538b",
   "metadata": {},
   "outputs": [],
   "source": [
    "# We inherit from the Review class\n",
    "class DenseReview(Review):\n",
    "    # We define the frequency method\n",
    "    def frequency(self, word):\n",
    "        freq = 0\n",
    "        freq += self.items.count(word)\n",
    "        return freq"
   ]
  },
  {
   "cell_type": "code",
   "execution_count": 208,
   "id": "eb06491d",
   "metadata": {},
   "outputs": [],
   "source": [
    "dense_review=DenseReview('that was was pretty bad', corpus_review)"
   ]
  },
  {
   "cell_type": "code",
   "execution_count": 226,
   "id": "ddb8291c",
   "metadata": {},
   "outputs": [
    {
     "name": "stdout",
     "output_type": "stream",
     "text": [
      "The words in:\n",
      "     ['not', 'good', 'pretty', 'bad', 'plot', 'scenery'] \n",
      "appear in: \n",
      "     \"that was was pretty bad\"\n",
      "2 times\n",
      "\n",
      "And the word \"that\" appears 1 times\n"
     ]
    }
   ],
   "source": [
    "print(f'The words in:\\n     {dense_review.words} \\nappear in: \\n     \"{dense_review.string}\"\\n{dense_review.count} times\\n')\n",
    "word='that'\n",
    "\n",
    "count=dense_review.frequency(word)\n",
    "if (dense_review.count>0) and (count>0):\n",
    "    print(f'And the word \"{word}\" appears {count} times')\n",
    "else:\n",
    "    print(f'But the word \"{word}\" appears {count} times')"
   ]
  },
  {
   "cell_type": "code",
   "execution_count": 227,
   "id": "e2789cbf",
   "metadata": {},
   "outputs": [
    {
     "name": "stdout",
     "output_type": "stream",
     "text": [
      "The words in:\n",
      "     ['not', 'good', 'pretty', 'bad', 'plot', 'scenery'] \n",
      "appear in: \n",
      "     \"that was was pretty bad\"\n",
      "2 times\n",
      "\n",
      "But the word \"movie\" appears 0 times\n"
     ]
    }
   ],
   "source": [
    "print(f'The words in:\\n     {dense_review.words} \\nappear in: \\n     \"{dense_review.string}\"\\n{dense_review.count} times\\n')\n",
    "word='movie'\n",
    "\n",
    "count=dense_review.frequency(word)\n",
    "if (dense_review.count>0) and (count>0):\n",
    "    print(f'And the word \"{word}\" appears {count} times')\n",
    "else:\n",
    "    print(f'But the word \"{word}\" appears {count} times')"
   ]
  },
  {
   "cell_type": "code",
   "execution_count": 201,
   "id": "48285a72",
   "metadata": {},
   "outputs": [],
   "source": [
    "# We inherit from the DenseReview class\n",
    "class SparseReview(DenseReview):\n",
    "    # As the frequency method is already defined, \n",
    "    # we use it to define the count for every word\n",
    "    def __init__(self, data, corpus_data):\n",
    "        # Parent __init__\n",
    "        super().__init__(data, corpus_data)\n",
    "        \n",
    "        # dic with frequency for every word\n",
    "        freq_counts={}\n",
    "        for word in self.words:\n",
    "            if word not in freq_counts.keys():\n",
    "                freq_counts[word]=self.frequency(word)\n",
    "        self.frequency_counts = freq_counts"
   ]
  },
  {
   "cell_type": "code",
   "execution_count": 228,
   "id": "92bf7e27",
   "metadata": {},
   "outputs": [],
   "source": [
    "dense_review=SparseReview('that was was pretty bad',corpus_review)"
   ]
  },
  {
   "cell_type": "code",
   "execution_count": 232,
   "id": "a2bdd123",
   "metadata": {},
   "outputs": [
    {
     "name": "stdout",
     "output_type": "stream",
     "text": [
      "The words in:\n",
      "     ['not', 'good', 'pretty', 'bad', 'plot', 'scenery'] \n",
      "appear in: \n",
      "     \"that was was pretty bad\"\n",
      " with the following frequency:\n",
      "     {'not': 0, 'good': 0, 'pretty': 1, 'bad': 1, 'plot': 0, 'scenery': 0}\n",
      "\n",
      "Fun fact: the word \"movie\" appears 0 times\n"
     ]
    }
   ],
   "source": [
    "print(f'The words in:\\n     {dense_review.words} \\nappear in: \\n     \"{dense_review.string}\"\\n with the following frequency:\\n     {dense_review.frequency_counts}\\n')\n",
    "\n",
    "word='movie'\n",
    "count=dense_review.frequency(word)\n",
    "print(f'Fun fact: the word \"{word}\" appears {count} times')"
   ]
  },
  {
   "cell_type": "markdown",
   "id": "3a16f01d-dc38-4aa7-a688-5c36aa259569",
   "metadata": {},
   "source": [
    "# Algunos patrones de POO"
   ]
  },
  {
   "cell_type": "markdown",
   "id": "8c555529-eb5c-418a-8527-5469e4bde482",
   "metadata": {},
   "source": [
    "## Estrategia\n",
    "\n",
    "Cuando tienes varios algoritmos o métodos para una tarea específica, define una familia de algoritmos (clases) y haz que sean intercambiables programando métodos en común.\n",
    "\n",
    "La normalización de datos (también llamada *feature scaling*) son métodos usados para ajustar el rango de valores en variables independientes o características de los datos. Usualmente se utilizan en la etapa de preprocesamiento de datos."
   ]
  },
  {
   "cell_type": "code",
   "execution_count": 204,
   "id": "95df8195-f5e9-4bcf-b614-b9a62f1f0982",
   "metadata": {},
   "outputs": [],
   "source": [
    "class FeatureScaling:\n",
    "    def scale(self, data):\n",
    "        raise NotImplementedError\n",
    "\n",
    "class StandardScaler(FeatureScaling):\n",
    "    def scale(self, data):\n",
    "        # Calcula media y varianza\n",
    "        # Normaliza los datos para que tengan\n",
    "        # media y varianza unitaria\n",
    "        pass\n",
    "\n",
    "class MinMaxScaler(FeatureScaling):\n",
    "    def __init__(self, minval, maxval):\n",
    "        pass\n",
    "\n",
    "    def scale(self, data):\n",
    "        # Normaliza los datos para que se encuentren\n",
    "        # entre el valor minimo y maximo especificados\n",
    "        pass"
   ]
  },
  {
   "cell_type": "markdown",
   "id": "65e66575-90ab-4ca0-abb7-d2ad79701a41",
   "metadata": {},
   "source": [
    "De esta manera, puedes usar algun normalizador en tu código sin pensar en los detalles de cómo es que se está normalizando. O bien, definir métodos que trabajen con algún normalizador, independientemente de cuál sea."
   ]
  },
  {
   "cell_type": "markdown",
   "id": "d0108b39-6590-46be-a13b-0b7695b279bb",
   "metadata": {},
   "source": [
    "## Fábrica\n",
    "\n",
    "Cuando necesitas crear objetos de diferentes clases basado en ciertas condiciones, pero quieres evitar incorporar la lógica de creación en cada método, puedes crear una clase separada (la fábrica) que sea responsable de crear la instancia adecuada."
   ]
  },
  {
   "cell_type": "code",
   "execution_count": 205,
   "id": "a2240d01-fa90-4dba-a791-039d4d6b979e",
   "metadata": {},
   "outputs": [],
   "source": [
    "class ScalerFactory:\n",
    "    def create_scaler(self, scaler_type):\n",
    "        if scaler_type == \"standard\":\n",
    "            return StandardScaler()\n",
    "        elif scaler_type == \"minmax\":\n",
    "            return MinMaxScaler(0, 1)\n",
    "        else:\n",
    "            return StandardScaler()"
   ]
  },
  {
   "cell_type": "markdown",
   "id": "d4f21fef-9615-4608-8607-9d6a01b9fa1b",
   "metadata": {},
   "source": [
    "## Constructor\n",
    "\n",
    "Cuando quieres crear objetos complejos con muchos parámetros opcionales, puedes usar una clase constructor separada que se encargue de ensamblar el objeto paso a paso, usando una técnica que se llama encadenamiento de métodos.\n",
    "\n",
    "Pensemos en la construcción de todo un procesamiento de datos.\n",
    "\n",
    "La imputación (`imputer`) es la sustitución de valores no informados en una observación por otros.\n",
    "\n",
    "La normalización (`scaler`) ajusta el rango de valores en variables independientes."
   ]
  },
  {
   "cell_type": "code",
   "execution_count": 206,
   "id": "dacf12a5-6749-441d-9393-5faf79b47c39",
   "metadata": {},
   "outputs": [],
   "source": [
    "class DataPipelineBuilder:\n",
    "    def __init__(self):\n",
    "        self.pipeline = []\n",
    "\n",
    "    def add_imputer(self, imputer_type):\n",
    "        # Agregar imputador al pipeline\n",
    "        return self\n",
    "\n",
    "    def add_scaler(self, scaler_type):\n",
    "        # Agregar normalizador al pipeline\n",
    "        return self\n",
    "\n",
    "    def add_model(self, model_type):\n",
    "        # Agregar modelo al pipeline\n",
    "        return self\n",
    "\n",
    "    def build(self):\n",
    "        # Construir el pipeline\n",
    "        return self.pipeline"
   ]
  },
  {
   "cell_type": "markdown",
   "id": "8a67f0c2-9761-44f0-9f30-b0d853b0699e",
   "metadata": {},
   "source": [
    "Entonces podríamos construir un procesamiento de datos de la siguiente manera:\n",
    "\n",
    "```python\n",
    "pipeline = DataPipelineBuilder() \\\n",
    "            .add_imputer('mean') \\\n",
    "            .add_scaler('standard') \\\n",
    "            .add_model('linear') \\\n",
    "            .build()\n",
    "```\n",
    "\n",
    "o configurarlo distinto:\n",
    "\n",
    "```python\n",
    "pipeline = DataPipelineBuilder() \\\n",
    "            .add_imputer('ignore') \\\n",
    "            .add_scaler('minmax') \\\n",
    "            .add_model('logistic') \\\n",
    "            .build()\n",
    "```"
   ]
  },
  {
   "cell_type": "markdown",
   "id": "7b3d21f5-f939-4c7b-b9d0-4363deb034f2",
   "metadata": {},
   "source": [
    "## Método plantilla\n",
    "\n",
    "Cuando tienes un algoritmo que siempre realiza ciertos pasos, pero en diferentes implementaciones algunos pasos cambian, puedes definir el esqueleto del algoritmo en una clase padre y dejar que las subclases sobreescriban los pasos específicos."
   ]
  },
  {
   "cell_type": "code",
   "execution_count": 207,
   "id": "6f94b278-d218-44ea-8d15-6ebae3a6a834",
   "metadata": {},
   "outputs": [],
   "source": [
    "class Analyzer:\n",
    "    def analyze(self, data):\n",
    "        self.preprocess(data)\n",
    "        self.custom_analyze(data)\n",
    "\n",
    "class FastButInaccurateAnalyzer:\n",
    "    def custom_analyze(self, data):\n",
    "        pass\n",
    "\n",
    "class SlowButAccurateAnalyzer:\n",
    "    def custom_analyze(self, data):\n",
    "        pass"
   ]
  }
 ],
 "metadata": {
  "kernelspec": {
   "display_name": "Python 3",
   "language": "python",
   "name": "python3"
  },
  "language_info": {
   "codemirror_mode": {
    "name": "ipython",
    "version": 3
   },
   "file_extension": ".py",
   "mimetype": "text/x-python",
   "name": "python",
   "nbconvert_exporter": "python",
   "pygments_lexer": "ipython3",
   "version": "3.11.9"
  }
 },
 "nbformat": 4,
 "nbformat_minor": 5
}
