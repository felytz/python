{
  "cells": [
    {
      "cell_type": "markdown",
      "id": "b7f59f84-4505-4276-9ef0-9a11ab113139",
      "metadata": {
        "id": "b7f59f84-4505-4276-9ef0-9a11ab113139"
      },
      "source": [
        "# Biblioteca NumPy\n",
        "\n",
        "NumPy es una biblioteca para el lenguaje de programación Python que da soporte para crear vectores y matrices grandes multidimensionales, junto con una gran colección de funciones matemáticas de alto nivel para operar con ellas.\n",
        "\n",
        "Sus características principales son:\n",
        "- **Matrices N-dimensionales potentes:** Rápidas y versátiles, los conceptos de vectorización, indexación y broadcasting de NumPy son los estándares de facto de la informática matricial actual.\n",
        "- **Herramientas de cómputo numérico:** NumPy ofrece funciones matemáticas completas, generadores de números aleatorios, rutinas de álgebra lineal, transformadas de Fourier y más.\n",
        "- **Interoperable:** NumPy es compatible con una amplia gama de plataformas de hardware y computación, y funciona bien con bibliotecas distribuidas, de GPU y de matrices dispersas.\n",
        "- **Alto rendimiento:** El núcleo de NumPy es un código C bien optimizado.\n",
        "- **Fácil de usar:** La sintaxis de alto nivel de NumPy lo hace accesible y productivo para programadores de cualquier nivel de formación o experiencia.\n",
        "\n",
        "Instala la biblioteca `numpy`...\n",
        "\n",
        "Esta libreta consiste principalmente de código. Agrega tus notas y observaciones en celdas con formato Markdown."
      ]
    },
    {
      "cell_type": "code",
      "execution_count": 1,
      "id": "d4b95bf8-9ee6-412a-b94b-932f81008fd9",
      "metadata": {
        "id": "d4b95bf8-9ee6-412a-b94b-932f81008fd9"
      },
      "outputs": [],
      "source": [
        "import numpy as np"
      ]
    },
    {
      "cell_type": "markdown",
      "id": "8436e487-07e6-4171-bd8c-3e6fac292d64",
      "metadata": {
        "id": "8436e487-07e6-4171-bd8c-3e6fac292d64"
      },
      "source": [
        "## Manipulación de arreglos"
      ]
    },
    {
      "cell_type": "code",
      "execution_count": 89,
      "id": "6b1a53ad-0302-4bc4-bf64-ac1d0dd881a5",
      "metadata": {
        "id": "6b1a53ad-0302-4bc4-bf64-ac1d0dd881a5"
      },
      "outputs": [],
      "source": [
        "np.random.seed(0)\n",
        "x1 = np.random.randint(10, size=6)\n",
        "x2 = np.random.randint(10, size=(3, 4))\n",
        "x3 = np.random.randint(10, size=(3, 4, 5))"
      ]
    },
    {
      "cell_type": "markdown",
      "id": "f30774e9-3aa8-4e95-b968-78fb964ea71b",
      "metadata": {
        "id": "f30774e9-3aa8-4e95-b968-78fb964ea71b"
      },
      "source": [
        "<span style=\"color: purple; font-weight: bold;font-size: 16px;\">\n",
        "De clases anteriores, sabemos que random.seed nos hace tal que, cuando utilicemos un factor aleatorio, sus elementos daran el mismo resultado para dicha celda.\n",
        "</span>"
      ]
    },
    {
      "cell_type": "code",
      "execution_count": 3,
      "id": "348ed98b-226e-4bb6-badd-f21e76640deb",
      "metadata": {
        "colab": {
          "base_uri": "https://localhost:8080/"
        },
        "id": "348ed98b-226e-4bb6-badd-f21e76640deb",
        "outputId": "cc5c115c-1dbc-4c05-8063-c7e6d0633744"
      },
      "outputs": [
        {
          "output_type": "execute_result",
          "data": {
            "text/plain": [
              "array([5, 0, 3, 3, 7, 9])"
            ]
          },
          "metadata": {},
          "execution_count": 3
        }
      ],
      "source": [
        "np.random.seed(0)\n",
        "np.random.randint(10, size=6)"
      ]
    },
    {
      "cell_type": "code",
      "execution_count": 4,
      "id": "1a86306e-5601-4c78-953a-e8d571eac750",
      "metadata": {
        "colab": {
          "base_uri": "https://localhost:8080/"
        },
        "id": "1a86306e-5601-4c78-953a-e8d571eac750",
        "outputId": "258f14c0-a707-4f85-8033-c6eb75c7c325"
      },
      "outputs": [
        {
          "output_type": "execute_result",
          "data": {
            "text/plain": [
              "array([3, 5, 2, 4, 7, 6])"
            ]
          },
          "metadata": {},
          "execution_count": 4
        }
      ],
      "source": [
        "np.random.randint(10, size=6)"
      ]
    },
    {
      "cell_type": "markdown",
      "id": "2843a3b0-c390-4735-a6b6-23949eba5a24",
      "metadata": {
        "id": "2843a3b0-c390-4735-a6b6-23949eba5a24"
      },
      "source": [
        "<span style=\"color: purple; font-weight: bold;font-size: 16px;\">\n",
        "Comprobando esto, seguimos.\n",
        "</span>"
      ]
    },
    {
      "cell_type": "code",
      "execution_count": 5,
      "id": "1d33ce1d-082c-4310-b5e0-2c76b447ebf5",
      "metadata": {
        "id": "1d33ce1d-082c-4310-b5e0-2c76b447ebf5"
      },
      "outputs": [],
      "source": [
        "import inspect"
      ]
    },
    {
      "cell_type": "markdown",
      "id": "418467e4-0c36-470e-b539-6cc657232c5f",
      "metadata": {
        "id": "418467e4-0c36-470e-b539-6cc657232c5f"
      },
      "source": [
        "<span style=\"color: purple; font-weight: bold;font-size: 16px;\">\n",
        "Agrego inspect, para poder dividir los docstring y no se me llene la pantalla.\n",
        "</span>"
      ]
    },
    {
      "cell_type": "code",
      "execution_count": 6,
      "id": "9049acb7-e654-4bcf-9877-c7ef2635b438",
      "metadata": {
        "colab": {
          "base_uri": "https://localhost:8080/"
        },
        "id": "9049acb7-e654-4bcf-9877-c7ef2635b438",
        "outputId": "b5b7b376-6c42-467a-e606-b2c4e2ded72d"
      },
      "outputs": [
        {
          "output_type": "stream",
          "name": "stdout",
          "text": [
            "Parameters\n",
            "----------\n",
            "low : int or array-like of ints\n",
            "    Lowest (signed) integers to be drawn from the distribution (unless\n",
            "    ``high=None``, in which case this parameter is one above the\n",
            "    *highest* such integer).\n",
            "high : int or array-like of ints, optional\n",
            "    If provided, one above the largest (signed) integer to be drawn\n",
            "    from the distribution (see above for behavior if ``high=None``).\n",
            "    If array-like, must contain integer values\n",
            "size : int or tuple of ints, optional\n",
            "    Output shape.  If the given shape is, e.g., ``(m, n, k)``, then\n",
            "    ``m * n * k`` samples are drawn.  Default is None, in which case a\n",
            "    single value is returned.\n",
            "dtype : dtype, optional\n",
            "    Desired dtype of the result. Byteorder must be native.\n",
            "    The default value is int.\n",
            "\n",
            "    \n"
          ]
        }
      ],
      "source": [
        "# Full docstring\n",
        "docstring = inspect.getdoc(np.random.randint)\n",
        "# Find the start of \"Parameters\" and end at \"Returns\", and add it \"Parameters\"\n",
        "print(\"Parameters\" + docstring.split(\"Parameters\", 1)[-1].split(\".. versionadded:: 1.11.0\", 1)[0])"
      ]
    },
    {
      "cell_type": "markdown",
      "source": [
        "<span style=\"color: purple; font-weight: bold;font-size: 16px;\">\n",
        "Viendo entonces los parametros vemos como size es la dimension del arreglo regresado.\n",
        "</span>"
      ],
      "metadata": {
        "id": "0LCckDkt5u32"
      },
      "id": "0LCckDkt5u32"
    },
    {
      "cell_type": "code",
      "execution_count": 7,
      "id": "52707134-fcc9-4ddd-a54e-630a7dbd5da4",
      "metadata": {
        "colab": {
          "base_uri": "https://localhost:8080/"
        },
        "id": "52707134-fcc9-4ddd-a54e-630a7dbd5da4",
        "outputId": "3dbff30c-d6fb-4136-b799-82c469062f97"
      },
      "outputs": [
        {
          "output_type": "execute_result",
          "data": {
            "text/plain": [
              "(dtype('int64'), dtype('int64'), dtype('int64'))"
            ]
          },
          "metadata": {},
          "execution_count": 7
        }
      ],
      "source": [
        "x1.dtype, x2.dtype, x3.dtype"
      ]
    },
    {
      "cell_type": "markdown",
      "id": "ca9e4d82-c18f-49aa-b6ed-9157d9869d31",
      "metadata": {
        "id": "ca9e4d82-c18f-49aa-b6ed-9157d9869d31"
      },
      "source": [
        "<span style=\"color: purple; font-weight: bold;font-size: 16px;\">\n",
        "Como se ve en la celda que se definio, donde se utilizo randint, al comprobar los tipo de datos nos da que, en efecto son de tipo int.\n",
        "</span>"
      ]
    },
    {
      "cell_type": "code",
      "execution_count": 8,
      "id": "b91b26ca-319a-433c-9cae-c164c826e99b",
      "metadata": {
        "colab": {
          "base_uri": "https://localhost:8080/"
        },
        "id": "b91b26ca-319a-433c-9cae-c164c826e99b",
        "outputId": "6dbf4236-abcb-42b0-edfb-c3f89da42023"
      },
      "outputs": [
        {
          "output_type": "execute_result",
          "data": {
            "text/plain": [
              "(8, 8, 8)"
            ]
          },
          "metadata": {},
          "execution_count": 8
        }
      ],
      "source": [
        "x1.itemsize, x2.itemsize, x3.itemsize"
      ]
    },
    {
      "cell_type": "markdown",
      "source": [
        "<span style=\"color: purple; font-weight: bold;font-size: 16px;\">\n",
        "Con \"x1.itemsize?\" podemos consultar la documentacion, y ver como itemsize nos da el tamaño del arreglo en bytes, siendo el tamaño de 8 bytes para el tipo int64\n",
        "</span>"
      ],
      "metadata": {
        "id": "N8Lx7Dhy6HGT"
      },
      "id": "N8Lx7Dhy6HGT"
    },
    {
      "cell_type": "code",
      "execution_count": 9,
      "id": "c8af52cc-be6e-4e8a-8905-4b9bd5a20ee9",
      "metadata": {
        "colab": {
          "base_uri": "https://localhost:8080/"
        },
        "id": "c8af52cc-be6e-4e8a-8905-4b9bd5a20ee9",
        "outputId": "aacc08f7-1e77-4d82-fedb-18abc2a45a3f"
      },
      "outputs": [
        {
          "output_type": "execute_result",
          "data": {
            "text/plain": [
              "(1, 2, 3)"
            ]
          },
          "metadata": {},
          "execution_count": 9
        }
      ],
      "source": [
        "x1.ndim, x2.ndim, x3.ndim"
      ]
    },
    {
      "cell_type": "markdown",
      "source": [
        "<span style=\"color: purple; font-weight: bold;font-size: 16px;\">\n",
        "Con \"x1.ndim?\" podemos consultar la documentacion y ver como ndim nos da la dimension del arreglo correspondiente.\n",
        "</span>"
      ],
      "metadata": {
        "id": "2eVvWHsy62MK"
      },
      "id": "2eVvWHsy62MK"
    },
    {
      "cell_type": "code",
      "execution_count": null,
      "id": "fb535633-7c55-4067-a941-b60a3d0c01c9",
      "metadata": {
        "id": "fb535633-7c55-4067-a941-b60a3d0c01c9",
        "outputId": "4e7aa346-9223-41e1-a3ae-e2c6c6a0058e"
      },
      "outputs": [
        {
          "data": {
            "text/plain": [
              "((6,), (3, 4), (3, 4, 5))"
            ]
          },
          "execution_count": 6,
          "metadata": {},
          "output_type": "execute_result"
        }
      ],
      "source": [
        "x1.shape, x2.shape, x3.shape"
      ]
    },
    {
      "cell_type": "markdown",
      "source": [
        "<span style=\"color: purple; font-weight: bold;font-size: 16px;\">\n",
        "Con \"x1.shape?\" podemos consultar la documentacion, y ver como shape nos da la \"figura\" del arreglo, y tambien puede ser usada cambiar su figura, mas es recomendable usar .reshape para ello, y tal vez puede que en un futuro .shape ya no tenga esta funcion.\n",
        "</span>"
      ],
      "metadata": {
        "id": "wj_sIZ2U7H2U"
      },
      "id": "wj_sIZ2U7H2U"
    },
    {
      "cell_type": "code",
      "execution_count": null,
      "id": "bece55f0-8776-49e1-844a-32c09d8167cf",
      "metadata": {
        "id": "bece55f0-8776-49e1-844a-32c09d8167cf",
        "outputId": "82f4897b-eaff-465f-9870-562eacfe2067"
      },
      "outputs": [
        {
          "data": {
            "text/plain": [
              "(6, 12, 60)"
            ]
          },
          "execution_count": 7,
          "metadata": {},
          "output_type": "execute_result"
        }
      ],
      "source": [
        "x1.size, x2.size, x3.size"
      ]
    },
    {
      "cell_type": "markdown",
      "source": [
        "<span style=\"color: purple; font-weight: bold;font-size: 16px;\">\n",
        "Con \"x1.size?\" podemos consultar la documentacion, y ver como size nos devuelve el numero de elementos en el arreglo.\n",
        "</span>"
      ],
      "metadata": {
        "id": "wRI35ncZ7xtj"
      },
      "id": "wRI35ncZ7xtj"
    },
    {
      "cell_type": "code",
      "execution_count": 24,
      "id": "15680aa3-1c04-40c8-a336-0bf48950aeda",
      "metadata": {
        "colab": {
          "base_uri": "https://localhost:8080/",
          "height": 144
        },
        "id": "15680aa3-1c04-40c8-a336-0bf48950aeda",
        "outputId": "f175bf3d-5bca-4569-c9eb-0b4c44ac6219"
      },
      "outputs": [
        {
          "output_type": "error",
          "ename": "AttributeError",
          "evalue": "attribute 'ndim' of 'numpy.ndarray' objects is not writable",
          "traceback": [
            "\u001b[0;31m---------------------------------------------------------------------------\u001b[0m",
            "\u001b[0;31mAttributeError\u001b[0m                            Traceback (most recent call last)",
            "\u001b[0;32m<ipython-input-24-07917a9af0bf>\u001b[0m in \u001b[0;36m<cell line: 1>\u001b[0;34m()\u001b[0m\n\u001b[0;32m----> 1\u001b[0;31m \u001b[0mx3\u001b[0m\u001b[0;34m.\u001b[0m\u001b[0mndim\u001b[0m \u001b[0;34m=\u001b[0m \u001b[0;36m8\u001b[0m\u001b[0;34m\u001b[0m\u001b[0;34m\u001b[0m\u001b[0m\n\u001b[0m",
            "\u001b[0;31mAttributeError\u001b[0m: attribute 'ndim' of 'numpy.ndarray' objects is not writable"
          ]
        }
      ],
      "source": [
        "x3.ndim = 8"
      ]
    },
    {
      "cell_type": "code",
      "source": [
        "x3.ndim?"
      ],
      "metadata": {
        "id": "OnvZ8Z_S9gRq"
      },
      "id": "OnvZ8Z_S9gRq",
      "execution_count": 26,
      "outputs": []
    },
    {
      "cell_type": "markdown",
      "source": [
        "<span style=\"color: purple; font-weight: bold;font-size: 16px;\">\n",
        "Como ya vimos anteriormente, .ndim es un atributo de los numpy.ndarray, el cual al usar .ndim simplemente nos devuelve este mismo, no siendo posible reescribirlo.\n",
        "</span>"
      ],
      "metadata": {
        "id": "V0DpvBXr9cTa"
      },
      "id": "V0DpvBXr9cTa"
    },
    {
      "cell_type": "code",
      "execution_count": null,
      "id": "72605170-08ef-431f-adec-282e910cc4a8",
      "metadata": {
        "id": "72605170-08ef-431f-adec-282e910cc4a8",
        "outputId": "b706a5fb-83c6-4597-9260-cb8df3642475"
      },
      "outputs": [
        {
          "data": {
            "text/plain": [
              "(48, 96, 480)"
            ]
          },
          "execution_count": 9,
          "metadata": {},
          "output_type": "execute_result"
        }
      ],
      "source": [
        "x1.nbytes, x2.nbytes, x3.nbytes"
      ]
    },
    {
      "cell_type": "markdown",
      "source": [
        "<span style=\"color: purple; font-weight: bold;font-size: 16px;\">\n",
        "El nombre explica bien lo que es, pero aun asi usamos \"x1.nbytes?\" para consultar la documentacion y vemos como este atributo contiene el total de bytes que consumen los elementos del arreglo.\n",
        "</span>"
      ],
      "metadata": {
        "id": "CC9KyePz90_T"
      },
      "id": "CC9KyePz90_T"
    },
    {
      "cell_type": "markdown",
      "id": "2bb673ea-213c-4ef5-9396-67cf26ad53ba",
      "metadata": {
        "id": "2bb673ea-213c-4ef5-9396-67cf26ad53ba"
      },
      "source": [
        "## Acceso a los elementos"
      ]
    },
    {
      "cell_type": "code",
      "execution_count": 80,
      "id": "bd8034ce-3f43-4624-b8bf-faafc3baeaeb",
      "metadata": {
        "colab": {
          "base_uri": "https://localhost:8080/"
        },
        "id": "bd8034ce-3f43-4624-b8bf-faafc3baeaeb",
        "outputId": "e6df1f45-7ce2-453f-daab-0f4e64837a4b"
      },
      "outputs": [
        {
          "output_type": "execute_result",
          "data": {
            "text/plain": [
              "array([5, 0, 3, 3, 7, 9])"
            ]
          },
          "metadata": {},
          "execution_count": 80
        }
      ],
      "source": [
        "x1"
      ]
    },
    {
      "cell_type": "markdown",
      "source": [
        "<span style=\"color: purple; font-weight: bold;font-size: 16px;\">\n",
        "Partimos de un arreglo de 6 elementos.\n",
        "</span>"
      ],
      "metadata": {
        "id": "aXzd2eEe_pqL"
      },
      "id": "aXzd2eEe_pqL"
    },
    {
      "cell_type": "code",
      "execution_count": 29,
      "id": "7de8fcab-44d0-4cb3-8932-555cb561f5b8",
      "metadata": {
        "colab": {
          "base_uri": "https://localhost:8080/"
        },
        "id": "7de8fcab-44d0-4cb3-8932-555cb561f5b8",
        "outputId": "f54ef1cf-e650-4755-b131-7650cf713c6f"
      },
      "outputs": [
        {
          "output_type": "execute_result",
          "data": {
            "text/plain": [
              "5"
            ]
          },
          "metadata": {},
          "execution_count": 29
        }
      ],
      "source": [
        "x1[0]"
      ]
    },
    {
      "cell_type": "markdown",
      "source": [
        "<span style=\"color: purple; font-weight: bold;font-size: 16px;\">\n",
        "Como se cuenta a partir del 0, el primer elemento es de indice 0.\n",
        "</span>"
      ],
      "metadata": {
        "id": "G2_RxLKi_uNu"
      },
      "id": "G2_RxLKi_uNu"
    },
    {
      "cell_type": "code",
      "execution_count": 30,
      "id": "36666472-5af4-4fe7-94cb-fc9b05894258",
      "metadata": {
        "colab": {
          "base_uri": "https://localhost:8080/"
        },
        "id": "36666472-5af4-4fe7-94cb-fc9b05894258",
        "outputId": "131bb43d-9c93-4414-f627-74acfef83864"
      },
      "outputs": [
        {
          "output_type": "execute_result",
          "data": {
            "text/plain": [
              "0"
            ]
          },
          "metadata": {},
          "execution_count": 30
        }
      ],
      "source": [
        "x1[1]"
      ]
    },
    {
      "cell_type": "markdown",
      "source": [
        "<span style=\"color: purple; font-weight: bold;font-size: 16px;\">\n",
        "Segundo elemento.\n",
        "</span>"
      ],
      "metadata": {
        "id": "6L-7MPMy_1mc"
      },
      "id": "6L-7MPMy_1mc"
    },
    {
      "cell_type": "code",
      "execution_count": 31,
      "id": "919dd514-6521-4140-8c10-aebc679f1f18",
      "metadata": {
        "colab": {
          "base_uri": "https://localhost:8080/"
        },
        "id": "919dd514-6521-4140-8c10-aebc679f1f18",
        "outputId": "f72e8986-9881-4caa-e385-932e135f4a1f"
      },
      "outputs": [
        {
          "output_type": "execute_result",
          "data": {
            "text/plain": [
              "3"
            ]
          },
          "metadata": {},
          "execution_count": 31
        }
      ],
      "source": [
        "x1[2]"
      ]
    },
    {
      "cell_type": "markdown",
      "source": [
        "<span style=\"color: purple; font-weight: bold;font-size: 16px;\">\n",
        "Tercer elemento\n",
        "</span>"
      ],
      "metadata": {
        "id": "sVoGJ281_7P0"
      },
      "id": "sVoGJ281_7P0"
    },
    {
      "cell_type": "code",
      "execution_count": 32,
      "id": "25f39819-a94b-4ce8-ac22-99da957c9b86",
      "metadata": {
        "colab": {
          "base_uri": "https://localhost:8080/"
        },
        "id": "25f39819-a94b-4ce8-ac22-99da957c9b86",
        "outputId": "5d0deb0d-6396-4b52-d10d-a981af74abd8"
      },
      "outputs": [
        {
          "output_type": "execute_result",
          "data": {
            "text/plain": [
              "9"
            ]
          },
          "metadata": {},
          "execution_count": 32
        }
      ],
      "source": [
        "x1[-1]"
      ]
    },
    {
      "cell_type": "markdown",
      "source": [
        "<span style=\"color: purple; font-weight: bold;font-size: 16px;\">\n",
        "Ultimo elemento.\n",
        "</span>"
      ],
      "metadata": {
        "id": "A5-iE7VbACn9"
      },
      "id": "A5-iE7VbACn9"
    },
    {
      "cell_type": "code",
      "execution_count": 33,
      "id": "c50126ca-b7b6-4f67-84d9-83e2f309f2ba",
      "metadata": {
        "colab": {
          "base_uri": "https://localhost:8080/"
        },
        "id": "c50126ca-b7b6-4f67-84d9-83e2f309f2ba",
        "outputId": "486c8f3e-4bc4-4ae5-a9f3-86d6aa886f2a"
      },
      "outputs": [
        {
          "output_type": "execute_result",
          "data": {
            "text/plain": [
              "7"
            ]
          },
          "metadata": {},
          "execution_count": 33
        }
      ],
      "source": [
        "x1[-2]"
      ]
    },
    {
      "cell_type": "markdown",
      "source": [
        "<span style=\"color: purple; font-weight: bold;font-size: 16px;\">\n",
        "Penultimo elemento.\n",
        "</span>"
      ],
      "metadata": {
        "id": "YvIc8u24AEtz"
      },
      "id": "YvIc8u24AEtz"
    },
    {
      "cell_type": "code",
      "execution_count": 34,
      "id": "13ace8c4-1c8c-49bc-bb36-20779b204c32",
      "metadata": {
        "colab": {
          "base_uri": "https://localhost:8080/"
        },
        "id": "13ace8c4-1c8c-49bc-bb36-20779b204c32",
        "outputId": "11ebe2b7-7048-43f5-f4d1-ce38694376ae"
      },
      "outputs": [
        {
          "output_type": "execute_result",
          "data": {
            "text/plain": [
              "array([[3, 5, 2, 4],\n",
              "       [7, 6, 8, 8],\n",
              "       [1, 6, 7, 7]])"
            ]
          },
          "metadata": {},
          "execution_count": 34
        }
      ],
      "source": [
        "x2"
      ]
    },
    {
      "cell_type": "markdown",
      "source": [
        "<span style=\"color: purple; font-weight: bold;font-size: 16px;\">\n",
        "Partimos de un arreglo de 3x4 elementos.\n",
        "</span>"
      ],
      "metadata": {
        "id": "dhsbV9WXAPit"
      },
      "id": "dhsbV9WXAPit"
    },
    {
      "cell_type": "code",
      "execution_count": 35,
      "id": "3c19b320-af2f-49af-9f0d-8f10d1388cfe",
      "metadata": {
        "colab": {
          "base_uri": "https://localhost:8080/"
        },
        "id": "3c19b320-af2f-49af-9f0d-8f10d1388cfe",
        "outputId": "98f303b7-4b50-4411-c92e-f3d0cff65ce0"
      },
      "outputs": [
        {
          "output_type": "execute_result",
          "data": {
            "text/plain": [
              "3"
            ]
          },
          "metadata": {},
          "execution_count": 35
        }
      ],
      "source": [
        "x2[0,0]"
      ]
    },
    {
      "cell_type": "markdown",
      "source": [
        "<span style=\"color: purple; font-weight: bold;font-size: 16px;\">\n",
        "En el arreglo de nxm, el elemento correspondiente de 0,0\n",
        "</span>"
      ],
      "metadata": {
        "id": "VYMhceqvAd0i"
      },
      "id": "VYMhceqvAd0i"
    },
    {
      "cell_type": "code",
      "execution_count": 36,
      "id": "342ba769-8ac4-42b1-b01f-31afff04d728",
      "metadata": {
        "colab": {
          "base_uri": "https://localhost:8080/"
        },
        "id": "342ba769-8ac4-42b1-b01f-31afff04d728",
        "outputId": "b0b0caf4-2b06-4e59-e287-e55c6b9da856"
      },
      "outputs": [
        {
          "output_type": "execute_result",
          "data": {
            "text/plain": [
              "5"
            ]
          },
          "metadata": {},
          "execution_count": 36
        }
      ],
      "source": [
        "x2[0,1]"
      ]
    },
    {
      "cell_type": "markdown",
      "source": [
        "<span style=\"color: purple; font-weight: bold;font-size: 16px;\">\n",
        "En el arreglo de nxm, el elemento correspondiente de 0,1 (coloquialmente podiendo decir, el segundo elemento de la primer lista de arreglos)\n",
        "</span>"
      ],
      "metadata": {
        "id": "io58PLtLAzvl"
      },
      "id": "io58PLtLAzvl"
    },
    {
      "cell_type": "code",
      "execution_count": 37,
      "id": "82dc17a7-6cc7-461a-8131-a802f2621fa9",
      "metadata": {
        "colab": {
          "base_uri": "https://localhost:8080/"
        },
        "id": "82dc17a7-6cc7-461a-8131-a802f2621fa9",
        "outputId": "8826d9d3-08fd-4b7b-ea2f-a7bc5066b9db"
      },
      "outputs": [
        {
          "output_type": "execute_result",
          "data": {
            "text/plain": [
              "7"
            ]
          },
          "metadata": {},
          "execution_count": 37
        }
      ],
      "source": [
        "x2[1,0]"
      ]
    },
    {
      "cell_type": "markdown",
      "source": [
        "<span style=\"color: purple; font-weight: bold;font-size: 16px;\">\n",
        "En el arreglo de nxm, el elemento correspondiente de 1,0 (coloquialmente podiendo decir, el primer elemento de la segunda lista de arreglos)\n",
        "</span>"
      ],
      "metadata": {
        "id": "QbA1qhY5Z81v"
      },
      "id": "QbA1qhY5Z81v"
    },
    {
      "cell_type": "code",
      "execution_count": 38,
      "id": "eabd208a-a3bd-4f8b-b1e8-ab9d2f3b6c1d",
      "metadata": {
        "id": "eabd208a-a3bd-4f8b-b1e8-ab9d2f3b6c1d"
      },
      "outputs": [],
      "source": [
        "x2[0,0] = 12"
      ]
    },
    {
      "cell_type": "markdown",
      "source": [
        "<span style=\"color: purple; font-weight: bold;font-size: 16px;\">\n",
        "En este caso se esta re-definiendo en el arreglo de nxm, el elemento correspondiente de 0,0  de x2, para que ahora tenga un valor de 12.\n",
        "</span>"
      ],
      "metadata": {
        "id": "J1WNhc9UaHXx"
      },
      "id": "J1WNhc9UaHXx"
    },
    {
      "cell_type": "code",
      "execution_count": 76,
      "id": "d424fbd7-0348-429d-972b-791554a340c8",
      "metadata": {
        "colab": {
          "base_uri": "https://localhost:8080/"
        },
        "id": "d424fbd7-0348-429d-972b-791554a340c8",
        "outputId": "d6ec8dd3-9da7-40a1-cb3b-52f98aca01e2"
      },
      "outputs": [
        {
          "output_type": "execute_result",
          "data": {
            "text/plain": [
              "array([[12,  5,  2,  4],\n",
              "       [ 7,  6,  8,  8],\n",
              "       [ 1,  6,  7,  7]])"
            ]
          },
          "metadata": {},
          "execution_count": 76
        }
      ],
      "source": [
        "x2"
      ]
    },
    {
      "cell_type": "code",
      "execution_count": 40,
      "id": "671fd8e6-ed58-4bd2-a44c-b8c9af682d89",
      "metadata": {
        "id": "671fd8e6-ed58-4bd2-a44c-b8c9af682d89"
      },
      "outputs": [],
      "source": [
        "class ObjetoRaro:\n",
        "    def __init__(self, x):\n",
        "        self.x = x\n",
        "    def __int__(self):\n",
        "        return len(self.x)\n",
        "    def __contains__(self, y):\n",
        "        return y in self.x\n",
        "    def __getitem__(self, i):\n",
        "        return False"
      ]
    },
    {
      "cell_type": "markdown",
      "source": [
        "<span style=\"color: purple; font-weight: bold;font-size: 16px;\">\n",
        "Se define una clase \"ObjetoRaro\" con distintas propiedades que suelen tener las clases mas comunes.\n",
        "</span>"
      ],
      "metadata": {
        "id": "KulIiRu6ad8u"
      },
      "id": "KulIiRu6ad8u"
    },
    {
      "cell_type": "code",
      "execution_count": 90,
      "id": "ac1b3667-fc6a-4dc8-a105-906cab048425",
      "metadata": {
        "colab": {
          "base_uri": "https://localhost:8080/"
        },
        "id": "ac1b3667-fc6a-4dc8-a105-906cab048425",
        "outputId": "6b1df1c7-793b-4db2-9340-2918958bb929"
      },
      "outputs": [
        {
          "output_type": "execute_result",
          "data": {
            "text/plain": [
              "array([5, 0, 3, 3, 7, 9])"
            ]
          },
          "metadata": {},
          "execution_count": 90
        }
      ],
      "source": [
        "x1"
      ]
    },
    {
      "cell_type": "markdown",
      "source": [
        "<span style=\"color: purple; font-weight: bold;font-size: 16px;\">\n",
        "Recordando nuestra x1.\n",
        "</span>"
      ],
      "metadata": {
        "id": "5C0S8eW0bjJM"
      },
      "id": "5C0S8eW0bjJM"
    },
    {
      "cell_type": "code",
      "execution_count": 91,
      "id": "86f15891-f685-49c7-b112-46a86cee90d3",
      "metadata": {
        "id": "86f15891-f685-49c7-b112-46a86cee90d3"
      },
      "outputs": [],
      "source": [
        "x1[0] = ObjetoRaro(\"hola!\")"
      ]
    },
    {
      "cell_type": "markdown",
      "source": [
        "<span style=\"color: purple; font-weight: bold;font-size: 16px;\">\n",
        "Definimos el primer elemento de arreglo como el string \"hola!\" pero de la clase de ObjetoRaro, por lo cual lo que, viendo sus propiedades, tiene una representacion de entero, la cual es su longitud, por lo que al estar con un arreglo de puros enteros, se agarra esa represetnacion ya que es posible.\n",
        "</span>"
      ],
      "metadata": {
        "id": "NzAa1FFMbl7q"
      },
      "id": "NzAa1FFMbl7q"
    },
    {
      "cell_type": "code",
      "execution_count": 94,
      "id": "d7660496-d969-4ff9-9712-3ffe1807a7d8",
      "metadata": {
        "colab": {
          "base_uri": "https://localhost:8080/"
        },
        "id": "d7660496-d969-4ff9-9712-3ffe1807a7d8",
        "outputId": "181e5af3-8a3b-4b2f-c43e-86965a52dff4"
      },
      "outputs": [
        {
          "output_type": "execute_result",
          "data": {
            "text/plain": [
              "array([5, 0, 3, 3, 7, 9])"
            ]
          },
          "metadata": {},
          "execution_count": 94
        }
      ],
      "source": [
        "x1"
      ]
    },
    {
      "cell_type": "markdown",
      "source": [
        "<span style=\"color: purple; font-weight: bold;font-size: 16px;\">\n",
        "Siendo asi el primer elemento \"5\".\n",
        "</span>"
      ],
      "metadata": {
        "id": "Dz77R488cOmL"
      },
      "id": "Dz77R488cOmL"
    },
    {
      "cell_type": "code",
      "source": [
        "x1[0] = ObjetoRaro(\"hol\")"
      ],
      "metadata": {
        "id": "4P8Gn7P8cKJS"
      },
      "id": "4P8Gn7P8cKJS",
      "execution_count": 95,
      "outputs": []
    },
    {
      "cell_type": "markdown",
      "source": [
        "<span style=\"color: purple; font-weight: bold;font-size: 16px;\">\n",
        "Para comprobar, podemos utilizar otro ejemplo de un string de longitud 3.\n",
        "</span>"
      ],
      "metadata": {
        "id": "Y0XYPWvKcTL8"
      },
      "id": "Y0XYPWvKcTL8"
    },
    {
      "cell_type": "code",
      "source": [
        "x1"
      ],
      "metadata": {
        "colab": {
          "base_uri": "https://localhost:8080/"
        },
        "id": "qqQU3e33cLcI",
        "outputId": "a321e7b9-3cb0-4018-8760-ee3229a07b69"
      },
      "id": "qqQU3e33cLcI",
      "execution_count": 96,
      "outputs": [
        {
          "output_type": "execute_result",
          "data": {
            "text/plain": [
              "array([3, 0, 3, 3, 7, 9])"
            ]
          },
          "metadata": {},
          "execution_count": 96
        }
      ]
    },
    {
      "cell_type": "markdown",
      "source": [
        "<span style=\"color: purple; font-weight: bold;font-size: 16px;\">\n",
        "Siendo asi el primer elemento \"3\".\n",
        "</span>"
      ],
      "metadata": {
        "id": "_gYn9AXMcXv1"
      },
      "id": "_gYn9AXMcXv1"
    },
    {
      "cell_type": "code",
      "execution_count": 99,
      "id": "f1ff3834-1b15-40ea-97d2-4a3760cc73dd",
      "metadata": {
        "id": "f1ff3834-1b15-40ea-97d2-4a3760cc73dd"
      },
      "outputs": [],
      "source": [
        "x1 = np.random.random(6)"
      ]
    },
    {
      "cell_type": "markdown",
      "source": [
        "<span style=\"color: purple; font-weight: bold;font-size: 16px;\">\n",
        "Definimos un nuevo arreglo de 6 elementos aleatorios.\n",
        "</span>"
      ],
      "metadata": {
        "id": "ABiI661ycZn_"
      },
      "id": "ABiI661ycZn_"
    },
    {
      "cell_type": "code",
      "execution_count": 100,
      "id": "accea941-40a2-4fea-800b-adf0cfc1fd60",
      "metadata": {
        "colab": {
          "base_uri": "https://localhost:8080/"
        },
        "id": "accea941-40a2-4fea-800b-adf0cfc1fd60",
        "outputId": "1bfe10d6-53bb-4599-ec05-67f7c01f364c"
      },
      "outputs": [
        {
          "output_type": "execute_result",
          "data": {
            "text/plain": [
              "array([0.6235101 , 0.33800761, 0.67475232, 0.31720174, 0.77834548,\n",
              "       0.94957105])"
            ]
          },
          "metadata": {},
          "execution_count": 100
        }
      ],
      "source": [
        "x1"
      ]
    },
    {
      "cell_type": "code",
      "execution_count": 101,
      "id": "19ceec5a-b75d-45b6-b48b-883bc900e22b",
      "metadata": {
        "colab": {
          "base_uri": "https://localhost:8080/",
          "height": 233
        },
        "id": "19ceec5a-b75d-45b6-b48b-883bc900e22b",
        "outputId": "6e15b1f8-658c-4d0a-f02c-703ac11b0c1e"
      },
      "outputs": [
        {
          "output_type": "error",
          "ename": "ValueError",
          "evalue": "setting an array element with a sequence.",
          "traceback": [
            "\u001b[0;31m---------------------------------------------------------------------------\u001b[0m",
            "\u001b[0;31mTypeError\u001b[0m                                 Traceback (most recent call last)",
            "\u001b[0;31mTypeError\u001b[0m: float() argument must be a string or a real number, not 'ObjetoRaro'",
            "\nThe above exception was the direct cause of the following exception:\n",
            "\u001b[0;31mValueError\u001b[0m                                Traceback (most recent call last)",
            "\u001b[0;32m<ipython-input-101-e9b554aa6837>\u001b[0m in \u001b[0;36m<cell line: 1>\u001b[0;34m()\u001b[0m\n\u001b[0;32m----> 1\u001b[0;31m \u001b[0mx1\u001b[0m\u001b[0;34m[\u001b[0m\u001b[0;36m0\u001b[0m\u001b[0;34m]\u001b[0m \u001b[0;34m=\u001b[0m \u001b[0mObjetoRaro\u001b[0m\u001b[0;34m(\u001b[0m\u001b[0;34m\"hola!\"\u001b[0m\u001b[0;34m)\u001b[0m\u001b[0;34m\u001b[0m\u001b[0;34m\u001b[0m\u001b[0m\n\u001b[0m",
            "\u001b[0;31mValueError\u001b[0m: setting an array element with a sequence."
          ]
        }
      ],
      "source": [
        "x1[0] = ObjetoRaro(\"hola!\")"
      ]
    },
    {
      "cell_type": "markdown",
      "source": [
        "<span style=\"color: purple; font-weight: bold;font-size: 16px;\">\n",
        "A diferencia de cuando queriamos cambiar el primer elemento por el string de forma ObjetoRaro, ahora el array que tenemos esta conformado por floats, por lo que para poder tener una reasignacion de valor valida, tendriamos que definir una nueva propiedad a nuestra clase en la cual se tenga una interpretacion de float para nuestro objeto de clase ObjetoRaro.\n",
        "</span>"
      ],
      "metadata": {
        "id": "KqrlN7g_cgpZ"
      },
      "id": "KqrlN7g_cgpZ"
    },
    {
      "cell_type": "code",
      "execution_count": 102,
      "id": "5e69d8b6-b27d-4cf2-afce-c0796eee9f31",
      "metadata": {
        "id": "5e69d8b6-b27d-4cf2-afce-c0796eee9f31"
      },
      "outputs": [],
      "source": [
        "class ObjetoRarito(ObjetoRaro):\n",
        "    def __init__(self, x):\n",
        "        super().__init__(x)\n",
        "    def __float__(self):\n",
        "        return float(len(self.x))"
      ]
    },
    {
      "cell_type": "markdown",
      "source": [
        "<span style=\"color: purple; font-weight: bold;font-size: 16px;\">\n",
        "Definiendo dicha porpiedad como la longitud del objeto, convertido a float, tenemos que:\n",
        "</span>"
      ],
      "metadata": {
        "id": "Civ1hqU0c34e"
      },
      "id": "Civ1hqU0c34e"
    },
    {
      "cell_type": "code",
      "execution_count": 103,
      "id": "b8608b3d-4ef7-458e-8593-6d870b740f51",
      "metadata": {
        "id": "b8608b3d-4ef7-458e-8593-6d870b740f51"
      },
      "outputs": [],
      "source": [
        "x1[0] = ObjetoRarito(\"hola!\")"
      ]
    },
    {
      "cell_type": "markdown",
      "source": [
        "<span style=\"color: purple; font-weight: bold;font-size: 16px;\">\n",
        "Ya podemos reasignar dicho valor.\n",
        "</span>"
      ],
      "metadata": {
        "id": "EW1QHRRkc-Nd"
      },
      "id": "EW1QHRRkc-Nd"
    },
    {
      "cell_type": "code",
      "execution_count": 104,
      "id": "8ed0f408-afcb-4bdd-85c3-a93112de6ed4",
      "metadata": {
        "colab": {
          "base_uri": "https://localhost:8080/"
        },
        "id": "8ed0f408-afcb-4bdd-85c3-a93112de6ed4",
        "outputId": "5e449fec-61fb-47fa-e69e-2caec2bd5891"
      },
      "outputs": [
        {
          "output_type": "execute_result",
          "data": {
            "text/plain": [
              "array([5.        , 0.33800761, 0.67475232, 0.31720174, 0.77834548,\n",
              "       0.94957105])"
            ]
          },
          "metadata": {},
          "execution_count": 104
        }
      ],
      "source": [
        "x1"
      ]
    },
    {
      "cell_type": "markdown",
      "source": [
        "<span style=\"color: purple; font-weight: bold;font-size: 16px;\">\n",
        "Siendo asi el primer elemento \"5\".\n",
        "</span>"
      ],
      "metadata": {
        "id": "hJL3NuksdBUs"
      },
      "id": "hJL3NuksdBUs"
    },
    {
      "cell_type": "markdown",
      "id": "8aa8ba0a-2584-44f4-8610-e1033cb4941c",
      "metadata": {
        "id": "8aa8ba0a-2584-44f4-8610-e1033cb4941c"
      },
      "source": [
        "## Rebanadas"
      ]
    },
    {
      "cell_type": "code",
      "execution_count": 105,
      "id": "52557ec2-a650-4689-9b1b-e0929f9ba9c6",
      "metadata": {
        "id": "52557ec2-a650-4689-9b1b-e0929f9ba9c6"
      },
      "outputs": [],
      "source": [
        "x = np.arange(10)"
      ]
    },
    {
      "cell_type": "markdown",
      "source": [
        "<span style=\"color: purple; font-weight: bold;font-size: 16px;\">\n",
        "Creamos un arreglo \"x\" de un rango hasta el 10(no inclusivo), a partir de 0(por defecto), de 1 en 1(por defecto).\n",
        "</span>"
      ],
      "metadata": {
        "id": "2cwwmMoNdGXK"
      },
      "id": "2cwwmMoNdGXK"
    },
    {
      "cell_type": "code",
      "execution_count": 106,
      "id": "42f0d83c-749a-4223-8711-ef059c3a8008",
      "metadata": {
        "colab": {
          "base_uri": "https://localhost:8080/"
        },
        "id": "42f0d83c-749a-4223-8711-ef059c3a8008",
        "outputId": "4251557e-ae5d-4905-dff9-817582c9d6d4"
      },
      "outputs": [
        {
          "output_type": "execute_result",
          "data": {
            "text/plain": [
              "array([0, 1, 2, 3, 4, 5, 6, 7, 8, 9])"
            ]
          },
          "metadata": {},
          "execution_count": 106
        }
      ],
      "source": [
        "x"
      ]
    },
    {
      "cell_type": "code",
      "execution_count": 107,
      "id": "6068149a-8d3f-472b-ab6c-9af82ef4e7c1",
      "metadata": {
        "colab": {
          "base_uri": "https://localhost:8080/"
        },
        "id": "6068149a-8d3f-472b-ab6c-9af82ef4e7c1",
        "outputId": "ada3eac2-6021-4e2c-c108-df2885cecb36"
      },
      "outputs": [
        {
          "output_type": "execute_result",
          "data": {
            "text/plain": [
              "array([0, 1, 2, 3, 4])"
            ]
          },
          "metadata": {},
          "execution_count": 107
        }
      ],
      "source": [
        "x[:5]"
      ]
    },
    {
      "cell_type": "markdown",
      "source": [
        "<span style=\"color: purple; font-weight: bold;font-size: 16px;\">\n",
        "Cortamos nuestro arreglo desde el primer elemento(indice 0), al sexto elemento (indice 5) no inclusivo, es decir, cinco elementos.\n",
        "</span>"
      ],
      "metadata": {
        "id": "dfq6HNZFdSou"
      },
      "id": "dfq6HNZFdSou"
    },
    {
      "cell_type": "code",
      "execution_count": 108,
      "id": "bb1b5ba1-7659-4671-a043-5dfebbdd678a",
      "metadata": {
        "colab": {
          "base_uri": "https://localhost:8080/"
        },
        "id": "bb1b5ba1-7659-4671-a043-5dfebbdd678a",
        "outputId": "c18e3654-6d4c-421c-c8f5-ec417939205a"
      },
      "outputs": [
        {
          "output_type": "execute_result",
          "data": {
            "text/plain": [
              "array([5, 6, 7, 8, 9])"
            ]
          },
          "metadata": {},
          "execution_count": 108
        }
      ],
      "source": [
        "x[5:]"
      ]
    },
    {
      "cell_type": "markdown",
      "source": [
        "<span style=\"color: purple; font-weight: bold;font-size: 16px;\">\n",
        "Cortamos desde el sexto elemento(indice 5), hasta al final del arreglo.\n",
        "</span>"
      ],
      "metadata": {
        "id": "ICJ0bdMadlSU"
      },
      "id": "ICJ0bdMadlSU"
    },
    {
      "cell_type": "code",
      "execution_count": null,
      "id": "c7d9a7fd-af37-450f-8dfc-5f8b09510790",
      "metadata": {
        "id": "c7d9a7fd-af37-450f-8dfc-5f8b09510790"
      },
      "outputs": [],
      "source": [
        "x[4:7]"
      ]
    },
    {
      "cell_type": "markdown",
      "source": [
        "<span style=\"color: purple; font-weight: bold;font-size: 16px;\">\n",
        "Cortamos desde el quinto elemento(indice 4), hasta el octavo elemento(indice 7) no inclusivo, es decir, del quinto elemento hasta el septimo.\n",
        "</span>"
      ],
      "metadata": {
        "id": "XMZrflEQeHVV"
      },
      "id": "XMZrflEQeHVV"
    },
    {
      "cell_type": "code",
      "execution_count": 109,
      "id": "c2daa396-7948-48f1-9e8b-16a9be924229",
      "metadata": {
        "colab": {
          "base_uri": "https://localhost:8080/"
        },
        "id": "c2daa396-7948-48f1-9e8b-16a9be924229",
        "outputId": "c463c0d9-612c-45aa-9d9e-279ff2c2dd06"
      },
      "outputs": [
        {
          "output_type": "execute_result",
          "data": {
            "text/plain": [
              "array([0, 2, 4, 6, 8])"
            ]
          },
          "metadata": {},
          "execution_count": 109
        }
      ],
      "source": [
        "x[::2]"
      ]
    },
    {
      "cell_type": "markdown",
      "source": [
        "<span style=\"color: purple; font-weight: bold;font-size: 16px;\">\n",
        "Partimos del primer elemento, y obtenemos cada segundo elemento las veeces posibles hasta el final de la lista.\n",
        "</span>"
      ],
      "metadata": {
        "id": "95rGbpe1eR3Z"
      },
      "id": "95rGbpe1eR3Z"
    },
    {
      "cell_type": "code",
      "execution_count": null,
      "id": "f059f764-1b55-40c4-8c66-e712575d4a07",
      "metadata": {
        "id": "f059f764-1b55-40c4-8c66-e712575d4a07"
      },
      "outputs": [],
      "source": [
        "x[1::2]"
      ]
    },
    {
      "cell_type": "markdown",
      "source": [
        "<span style=\"color: purple; font-weight: bold;font-size: 16px;\">\n",
        "Partimos del segundo elemento, y obtenemos cada segundo elemento las veeces posibles hasta el final de la lista.\n",
        "</span>"
      ],
      "metadata": {
        "id": "xFfByT8wevja"
      },
      "id": "xFfByT8wevja"
    },
    {
      "cell_type": "code",
      "execution_count": 110,
      "id": "c9ada4c6-4abb-45f7-8f15-cf967beefc1a",
      "metadata": {
        "colab": {
          "base_uri": "https://localhost:8080/"
        },
        "id": "c9ada4c6-4abb-45f7-8f15-cf967beefc1a",
        "outputId": "5e39ac32-4efb-494c-d8ff-5c235bdfa9b5"
      },
      "outputs": [
        {
          "output_type": "execute_result",
          "data": {
            "text/plain": [
              "array([9, 8, 7, 6, 5, 4, 3, 2, 1, 0])"
            ]
          },
          "metadata": {},
          "execution_count": 110
        }
      ],
      "source": [
        "x[::-1]"
      ]
    },
    {
      "cell_type": "markdown",
      "source": [
        "<span style=\"color: purple; font-weight: bold;font-size: 16px;\">\n",
        "Partimos del último elemento, y obtenemos cada elemento previo hasta el inicio de la lista.\n",
        "</span>"
      ],
      "metadata": {
        "id": "vFOPDhPUjj6u"
      },
      "id": "vFOPDhPUjj6u"
    },
    {
      "cell_type": "code",
      "execution_count": 113,
      "id": "2561f702-a684-4ea4-85e3-390a7949d310",
      "metadata": {
        "colab": {
          "base_uri": "https://localhost:8080/"
        },
        "id": "2561f702-a684-4ea4-85e3-390a7949d310",
        "outputId": "b36f12e0-ac3b-4e36-9937-52f2c54048f0"
      },
      "outputs": [
        {
          "output_type": "execute_result",
          "data": {
            "text/plain": [
              "array([5, 3, 1])"
            ]
          },
          "metadata": {},
          "execution_count": 113
        }
      ],
      "source": [
        "x[5::-2]"
      ]
    },
    {
      "cell_type": "markdown",
      "source": [
        "<span style=\"color: purple; font-weight: bold;font-size: 16px;\">\n",
        "Partimos del sexto elemento(indice 5), y obtenemos cada segundo elemento precio las veces posibles hasta el inicio de la lista.\n",
        "</span>"
      ],
      "metadata": {
        "id": "eqMAZqRyjkWW"
      },
      "id": "eqMAZqRyjkWW"
    },
    {
      "cell_type": "code",
      "execution_count": 114,
      "id": "12484ad8-9101-4b52-a7e1-808cf6b7c241",
      "metadata": {
        "colab": {
          "base_uri": "https://localhost:8080/"
        },
        "id": "12484ad8-9101-4b52-a7e1-808cf6b7c241",
        "outputId": "0f8c5208-37d9-4212-8a68-7a4ae887a5dd"
      },
      "outputs": [
        {
          "output_type": "execute_result",
          "data": {
            "text/plain": [
              "array([[3, 5, 2, 4],\n",
              "       [7, 6, 8, 8],\n",
              "       [1, 6, 7, 7]])"
            ]
          },
          "metadata": {},
          "execution_count": 114
        }
      ],
      "source": [
        "x2"
      ]
    },
    {
      "cell_type": "markdown",
      "source": [
        "<span style=\"color: purple; font-weight: bold;font-size: 16px;\">\n",
        "Recordamos el arreglo x2 de shape:(3,4)\n",
        "</span>"
      ],
      "metadata": {
        "id": "BAdUihmmjk8l"
      },
      "id": "BAdUihmmjk8l"
    },
    {
      "cell_type": "code",
      "execution_count": 121,
      "id": "5c495392-d1cb-4f69-ad28-f267debcf2be",
      "metadata": {
        "colab": {
          "base_uri": "https://localhost:8080/"
        },
        "id": "5c495392-d1cb-4f69-ad28-f267debcf2be",
        "outputId": "cc4a04e0-58dc-4370-a7a5-2f4fb884f1f7"
      },
      "outputs": [
        {
          "output_type": "execute_result",
          "data": {
            "text/plain": [
              "array([[3, 5, 2],\n",
              "       [7, 6, 8]])"
            ]
          },
          "metadata": {},
          "execution_count": 121
        }
      ],
      "source": [
        "x2[:2, :3]"
      ]
    },
    {
      "cell_type": "markdown",
      "source": [
        "<span style=\"color: purple; font-weight: bold;font-size: 16px;\">\n",
        "Partirmos x2 con las siguientes condiciones:<br>\n",
        "en la primera dimension, desde el primer al tercer elemento(no inclusivo)<br>\n",
        "en la segunda dimension, desde el primer al cuarto elemento(no inclusivo)<br>\n",
        "</span>"
      ],
      "metadata": {
        "id": "MoHwi1vujlYR"
      },
      "id": "MoHwi1vujlYR"
    },
    {
      "cell_type": "code",
      "execution_count": 122,
      "id": "6ad45dff-ffcd-4896-833f-e6dd198e2822",
      "metadata": {
        "colab": {
          "base_uri": "https://localhost:8080/"
        },
        "id": "6ad45dff-ffcd-4896-833f-e6dd198e2822",
        "outputId": "65d3bf04-d611-4fe6-a064-d47d8cc69257"
      },
      "outputs": [
        {
          "output_type": "execute_result",
          "data": {
            "text/plain": [
              "array([[3, 2],\n",
              "       [7, 8],\n",
              "       [1, 7]])"
            ]
          },
          "metadata": {},
          "execution_count": 122
        }
      ],
      "source": [
        "x2[:3, ::2]"
      ]
    },
    {
      "cell_type": "markdown",
      "source": [
        "<span style=\"color: purple; font-weight: bold;font-size: 16px;\">\n",
        "Partirmos x2 con las siguientes condiciones:<br>\n",
        "en la primera dimension, desde el primer al cuarto elemento(no inclusivo).<br>\n",
        "en la segunda dimension, el primer elemento y cada segundo elemento posible hasta terminar los elementos.<br>\n",
        "</span>"
      ],
      "metadata": {
        "id": "58GSrDJRlrlT"
      },
      "id": "58GSrDJRlrlT"
    },
    {
      "cell_type": "code",
      "execution_count": 123,
      "id": "297e6fca-2c58-4894-971b-d627f11869ca",
      "metadata": {
        "colab": {
          "base_uri": "https://localhost:8080/"
        },
        "id": "297e6fca-2c58-4894-971b-d627f11869ca",
        "outputId": "6aaecafb-30c5-46ba-acd5-2518ee3c77be"
      },
      "outputs": [
        {
          "output_type": "execute_result",
          "data": {
            "text/plain": [
              "array([[7, 7, 6, 1],\n",
              "       [8, 8, 6, 7],\n",
              "       [4, 2, 5, 3]])"
            ]
          },
          "metadata": {},
          "execution_count": 123
        }
      ],
      "source": [
        "x2[::-1, ::-1]"
      ]
    },
    {
      "cell_type": "markdown",
      "source": [
        "<span style=\"color: purple; font-weight: bold;font-size: 16px;\">\n",
        "Partirmos x2 con las siguientes condiciones:<br>\n",
        "en la primera dimension, desde el ultimo elemento, hasta el primero.<br>\n",
        "en la segunda dimension, desde el ultimo elemento, hasta el primero.<br>\n",
        "</span>"
      ],
      "metadata": {
        "id": "_tPGXCjNmAP5"
      },
      "id": "_tPGXCjNmAP5"
    },
    {
      "cell_type": "code",
      "execution_count": 124,
      "id": "c3be2215-9e4c-4c3f-a918-d2a462f6585e",
      "metadata": {
        "colab": {
          "base_uri": "https://localhost:8080/"
        },
        "id": "c3be2215-9e4c-4c3f-a918-d2a462f6585e",
        "outputId": "d37aa262-8ec3-4cf8-db88-85c86afed8de"
      },
      "outputs": [
        {
          "output_type": "execute_result",
          "data": {
            "text/plain": [
              "array([[5, 2],\n",
              "       [6, 8],\n",
              "       [6, 7]])"
            ]
          },
          "metadata": {},
          "execution_count": 124
        }
      ],
      "source": [
        "x2[:, 1:3]"
      ]
    },
    {
      "cell_type": "markdown",
      "source": [
        "<span style=\"color: purple; font-weight: bold;font-size: 16px;\">\n",
        "Partirmos x2 con las siguientes condiciones:<br>\n",
        "en la primera dimension, todos los elementos.<br>\n",
        "en la segunda dimension, desde el segundo elemento, hasta el cuarto(no inclusivo).<br>\n",
        "</span>"
      ],
      "metadata": {
        "id": "MwYpLeAumTqV"
      },
      "id": "MwYpLeAumTqV"
    },
    {
      "cell_type": "code",
      "execution_count": null,
      "id": "77a90bc0-6fbf-46a7-95c5-0693c60f06eb",
      "metadata": {
        "id": "77a90bc0-6fbf-46a7-95c5-0693c60f06eb"
      },
      "outputs": [],
      "source": [
        "x2_sub = x2[:, 1:3]"
      ]
    },
    {
      "cell_type": "code",
      "execution_count": null,
      "id": "49eb54b9-9788-4684-bab8-9ce7e38920a0",
      "metadata": {
        "id": "49eb54b9-9788-4684-bab8-9ce7e38920a0"
      },
      "outputs": [],
      "source": [
        "x2_sub"
      ]
    },
    {
      "cell_type": "code",
      "execution_count": null,
      "id": "0e3addc7-536a-4e2f-82c9-f6daa7c0e663",
      "metadata": {
        "id": "0e3addc7-536a-4e2f-82c9-f6daa7c0e663"
      },
      "outputs": [],
      "source": [
        "x2_sub[0,0] = 666"
      ]
    },
    {
      "cell_type": "code",
      "execution_count": null,
      "id": "51ee9840-4843-439f-807c-20b522e9fdd1",
      "metadata": {
        "id": "51ee9840-4843-439f-807c-20b522e9fdd1"
      },
      "outputs": [],
      "source": [
        "x2_sub"
      ]
    },
    {
      "cell_type": "code",
      "execution_count": null,
      "id": "2dbc1cf1-be7f-49c3-8895-0263cbb0a4d8",
      "metadata": {
        "id": "2dbc1cf1-be7f-49c3-8895-0263cbb0a4d8"
      },
      "outputs": [],
      "source": [
        "x2"
      ]
    },
    {
      "cell_type": "code",
      "execution_count": null,
      "id": "951fc1d6-2558-4cfa-a5c6-60f934a9eaeb",
      "metadata": {
        "id": "951fc1d6-2558-4cfa-a5c6-60f934a9eaeb"
      },
      "outputs": [],
      "source": [
        "x2_sub = x2[:, 1:3].copy()"
      ]
    },
    {
      "cell_type": "code",
      "execution_count": null,
      "id": "84c11c87-6186-4fa5-8c45-ff10bfc43760",
      "metadata": {
        "id": "84c11c87-6186-4fa5-8c45-ff10bfc43760"
      },
      "outputs": [],
      "source": [
        "x2_sub"
      ]
    },
    {
      "cell_type": "code",
      "execution_count": null,
      "id": "9ba25c24-2799-48a2-92a8-9f39e0e626b1",
      "metadata": {
        "id": "9ba25c24-2799-48a2-92a8-9f39e0e626b1"
      },
      "outputs": [],
      "source": [
        "x2_sub[0,0] = 42"
      ]
    },
    {
      "cell_type": "code",
      "execution_count": null,
      "id": "c826a947-26c9-4d1f-a3ad-4cba78802a4d",
      "metadata": {
        "id": "c826a947-26c9-4d1f-a3ad-4cba78802a4d"
      },
      "outputs": [],
      "source": [
        "x2_sub"
      ]
    },
    {
      "cell_type": "code",
      "execution_count": null,
      "id": "c710dd5b-f475-4e36-8fb3-7be2ba949e15",
      "metadata": {
        "id": "c710dd5b-f475-4e36-8fb3-7be2ba949e15"
      },
      "outputs": [],
      "source": [
        "x2"
      ]
    },
    {
      "cell_type": "markdown",
      "id": "1db19d9a-f6e2-4084-9cad-1fc53ac9c3b5",
      "metadata": {
        "id": "1db19d9a-f6e2-4084-9cad-1fc53ac9c3b5"
      },
      "source": [
        "## Cambiando la forma de los arreglos"
      ]
    },
    {
      "cell_type": "code",
      "execution_count": 127,
      "id": "21d98b05-af39-4780-93aa-c8818dd6b630",
      "metadata": {
        "id": "21d98b05-af39-4780-93aa-c8818dd6b630"
      },
      "outputs": [],
      "source": [
        "grid = np.arange(1,10).reshape((3,3))"
      ]
    },
    {
      "cell_type": "markdown",
      "source": [
        "<span style=\"color: purple; font-weight: bold;font-size: 16px;\">\n",
        "Definimos un arreglo de numeros del 1 al 10(no inclusivo) es decir, de 9 elementos y le aplicamos el metodo reshape para tener un arreglo de shape (3,3), dimension 2.\n",
        "</span>"
      ],
      "metadata": {
        "id": "VEXBrRIumz79"
      },
      "id": "VEXBrRIumz79"
    },
    {
      "cell_type": "code",
      "execution_count": 128,
      "id": "0b21d55c-8faf-4e70-8ff7-9d270ffc82a3",
      "metadata": {
        "colab": {
          "base_uri": "https://localhost:8080/"
        },
        "id": "0b21d55c-8faf-4e70-8ff7-9d270ffc82a3",
        "outputId": "10cbd8b4-a038-41ce-8247-c83a40792cda"
      },
      "outputs": [
        {
          "output_type": "execute_result",
          "data": {
            "text/plain": [
              "array([[1, 2, 3],\n",
              "       [4, 5, 6],\n",
              "       [7, 8, 9]])"
            ]
          },
          "metadata": {},
          "execution_count": 128
        }
      ],
      "source": [
        "grid"
      ]
    },
    {
      "cell_type": "code",
      "execution_count": 61,
      "id": "08fcf1d0-70d2-41d1-93dc-e60f96e49c5e",
      "metadata": {
        "colab": {
          "base_uri": "https://localhost:8080/"
        },
        "id": "08fcf1d0-70d2-41d1-93dc-e60f96e49c5e",
        "outputId": "6e54c923-ea3d-4446-80f3-1ef3dcca7c55"
      },
      "outputs": [
        {
          "output_type": "execute_result",
          "data": {
            "text/plain": [
              "array([[1, 4, 7],\n",
              "       [2, 5, 8],\n",
              "       [3, 6, 9]])"
            ]
          },
          "metadata": {},
          "execution_count": 61
        }
      ],
      "source": [
        "grid.T"
      ]
    },
    {
      "cell_type": "markdown",
      "source": [
        "<span style=\"color: purple; font-weight: bold;font-size: 16px;\">\n",
        "Aplicamos la transpuesta, la cual intercambia \"columnas\"  y \"filas\", es decir, cambia los elementos de una dimension a otra.\n",
        "</span>"
      ],
      "metadata": {
        "id": "TSZfJVIwnFCI"
      },
      "id": "TSZfJVIwnFCI"
    },
    {
      "cell_type": "code",
      "execution_count": 131,
      "id": "55a61b0a-c5cb-4f77-b6f5-256f70b96380",
      "metadata": {
        "colab": {
          "base_uri": "https://localhost:8080/"
        },
        "id": "55a61b0a-c5cb-4f77-b6f5-256f70b96380",
        "outputId": "7e9e23be-fb03-458e-e586-900275151cb3"
      },
      "outputs": [
        {
          "output_type": "execute_result",
          "data": {
            "text/plain": [
              "array([1, 2, 3])"
            ]
          },
          "metadata": {},
          "execution_count": 131
        }
      ],
      "source": [
        "np.array([1, 2, 3])"
      ]
    },
    {
      "cell_type": "markdown",
      "source": [
        "<span style=\"color: purple; font-weight: bold;font-size: 16px;\">\n",
        "Vemos como ejemplo un arreglo de 1,2,3.\n",
        "</span>"
      ],
      "metadata": {
        "id": "2Yti6mh5nTYJ"
      },
      "id": "2Yti6mh5nTYJ"
    },
    {
      "cell_type": "code",
      "execution_count": 63,
      "id": "d439ffee-5d2c-437a-b76f-8fe1affe9743",
      "metadata": {
        "colab": {
          "base_uri": "https://localhost:8080/"
        },
        "id": "d439ffee-5d2c-437a-b76f-8fe1affe9743",
        "outputId": "85c436e6-efcc-4e77-c0b2-c2168c58aa78"
      },
      "outputs": [
        {
          "output_type": "execute_result",
          "data": {
            "text/plain": [
              "array([[1, 2, 3]])"
            ]
          },
          "metadata": {},
          "execution_count": 63
        }
      ],
      "source": [
        "np.array([1, 2, 3]).reshape((1, 3))"
      ]
    },
    {
      "cell_type": "markdown",
      "source": [
        "<span style=\"color: purple; font-weight: bold;font-size: 16px;\">\n",
        "Cambiamos el shape de dicho arreglo, para que ahora en vez de ser solamente (3), sea de (1,3), ahora en vez de acceder al primer elemento con [2], necesita especificar otra dimension con [0,2]\n",
        "</span>"
      ],
      "metadata": {
        "id": "fotQWwqWnZEr"
      },
      "id": "fotQWwqWnZEr"
    },
    {
      "cell_type": "code",
      "execution_count": 64,
      "id": "d648c912-337c-45e9-9277-8c6243b5fd55",
      "metadata": {
        "colab": {
          "base_uri": "https://localhost:8080/"
        },
        "id": "d648c912-337c-45e9-9277-8c6243b5fd55",
        "outputId": "61f04ff2-b3cb-412e-da99-d05a3587ad3d"
      },
      "outputs": [
        {
          "output_type": "execute_result",
          "data": {
            "text/plain": [
              "array([[1],\n",
              "       [2],\n",
              "       [3]])"
            ]
          },
          "metadata": {},
          "execution_count": 64
        }
      ],
      "source": [
        "np.array([1, 2, 3]).reshape((3, 1))"
      ]
    },
    {
      "cell_type": "markdown",
      "source": [
        "<span style=\"color: purple; font-weight: bold;font-size: 16px;\">\n",
        "Cambiamos el shape de dicho arreglo, para que ahora en vez de ser solamente (3), sea de (3,1), ahora en vez de acceder al primer elemento con [2], necesita especificar otra dimension con [2,0]\n",
        "</span>"
      ],
      "metadata": {
        "id": "lWsrAz8anmR6"
      },
      "id": "lWsrAz8anmR6"
    },
    {
      "cell_type": "markdown",
      "id": "ca34ed85-6ef5-49cc-b92e-1ebc783c3a78",
      "metadata": {
        "id": "ca34ed85-6ef5-49cc-b92e-1ebc783c3a78"
      },
      "source": [
        "## Concatenando y partiendo arreglos"
      ]
    },
    {
      "cell_type": "code",
      "execution_count": null,
      "id": "168fe3e5-749e-4b8d-9a44-a49a59382aba",
      "metadata": {
        "id": "168fe3e5-749e-4b8d-9a44-a49a59382aba"
      },
      "outputs": [],
      "source": [
        "x = np.array([1, 2, 3])\n",
        "y = np.array([4, 5, 6])"
      ]
    },
    {
      "cell_type": "code",
      "execution_count": null,
      "id": "5542fb6e-2e24-4d2a-bf87-0b61c3bdb484",
      "metadata": {
        "id": "5542fb6e-2e24-4d2a-bf87-0b61c3bdb484"
      },
      "outputs": [],
      "source": [
        "np.concatenate([x, y])"
      ]
    },
    {
      "cell_type": "code",
      "execution_count": null,
      "id": "55866af0-15e2-4b44-b2d1-6e25402c6949",
      "metadata": {
        "id": "55866af0-15e2-4b44-b2d1-6e25402c6949"
      },
      "outputs": [],
      "source": [
        "xy = np.concatenate([x, y])\n",
        "xy[0] = 666\n",
        "xy"
      ]
    },
    {
      "cell_type": "code",
      "execution_count": null,
      "id": "87dddaac-8de1-4cf6-b654-e5c42eba0d19",
      "metadata": {
        "id": "87dddaac-8de1-4cf6-b654-e5c42eba0d19"
      },
      "outputs": [],
      "source": [
        "x"
      ]
    },
    {
      "cell_type": "code",
      "execution_count": null,
      "id": "4c9a5c09-9b51-437c-9c6c-97cec3586118",
      "metadata": {
        "id": "4c9a5c09-9b51-437c-9c6c-97cec3586118"
      },
      "outputs": [],
      "source": [
        "grid = np.arange(1, 7).reshape((2, 3))\n",
        "grid"
      ]
    },
    {
      "cell_type": "code",
      "execution_count": null,
      "id": "1f047234-1392-4118-a72d-e7488bbe7c59",
      "metadata": {
        "id": "1f047234-1392-4118-a72d-e7488bbe7c59"
      },
      "outputs": [],
      "source": [
        "np.concatenate([grid, grid])"
      ]
    },
    {
      "cell_type": "code",
      "execution_count": null,
      "id": "115e52d1-b8a6-468f-b125-27d9e5276640",
      "metadata": {
        "id": "115e52d1-b8a6-468f-b125-27d9e5276640"
      },
      "outputs": [],
      "source": [
        "np.concatenate([grid, grid], axis=0)"
      ]
    },
    {
      "cell_type": "code",
      "execution_count": null,
      "id": "9a5073fe-a12c-47a7-bf83-6bee3ce24e98",
      "metadata": {
        "id": "9a5073fe-a12c-47a7-bf83-6bee3ce24e98"
      },
      "outputs": [],
      "source": [
        "np.concatenate([grid, grid], axis=1)"
      ]
    },
    {
      "cell_type": "code",
      "execution_count": null,
      "id": "3f8b9175-2645-4309-8eaa-f0edc1a0ad72",
      "metadata": {
        "id": "3f8b9175-2645-4309-8eaa-f0edc1a0ad72"
      },
      "outputs": [],
      "source": [
        "np.concatenate([grid, grid], axis=2)"
      ]
    },
    {
      "cell_type": "code",
      "execution_count": null,
      "id": "7b9dec4a-7b7b-4c30-ae91-efc2d8a97aa3",
      "metadata": {
        "id": "7b9dec4a-7b7b-4c30-ae91-efc2d8a97aa3"
      },
      "outputs": [],
      "source": [
        "x = np.array([1, 2, 3])\n",
        "grid = np.arange(4, 10).reshape((2, 3))"
      ]
    },
    {
      "cell_type": "code",
      "execution_count": null,
      "id": "f81e41cd-9e7d-4964-a119-4f725fabc3e3",
      "metadata": {
        "id": "f81e41cd-9e7d-4964-a119-4f725fabc3e3"
      },
      "outputs": [],
      "source": [
        "np.concatenate([x, grid])"
      ]
    },
    {
      "cell_type": "code",
      "execution_count": null,
      "id": "fb8c3a77-47f2-4e56-98be-2b0cf90fcb86",
      "metadata": {
        "id": "fb8c3a77-47f2-4e56-98be-2b0cf90fcb86"
      },
      "outputs": [],
      "source": [
        "np.concatenate([x.reshape((1,3)), grid])"
      ]
    },
    {
      "cell_type": "code",
      "execution_count": null,
      "id": "10e49db9-efdc-493a-bd9a-0cd5ab8628f5",
      "metadata": {
        "id": "10e49db9-efdc-493a-bd9a-0cd5ab8628f5"
      },
      "outputs": [],
      "source": [
        "np.vstack([x, grid])"
      ]
    },
    {
      "cell_type": "code",
      "execution_count": null,
      "id": "8d7fc4b0-335d-4bc8-ad28-070b67afab97",
      "metadata": {
        "id": "8d7fc4b0-335d-4bc8-ad28-070b67afab97"
      },
      "outputs": [],
      "source": [
        "np.hstack([x.reshape((3,1)), grid.T])"
      ]
    },
    {
      "cell_type": "code",
      "execution_count": null,
      "id": "a20ea1f8-e736-47a0-8e49-385337f4855c",
      "metadata": {
        "id": "a20ea1f8-e736-47a0-8e49-385337f4855c"
      },
      "outputs": [],
      "source": [
        "x = np.array([1, 2, 3, 99, 99, 3, 2, 1])"
      ]
    },
    {
      "cell_type": "code",
      "execution_count": null,
      "id": "ab04681b-6fbe-4d7c-8510-e25775be8a1a",
      "metadata": {
        "id": "ab04681b-6fbe-4d7c-8510-e25775be8a1a"
      },
      "outputs": [],
      "source": [
        "x"
      ]
    },
    {
      "cell_type": "code",
      "execution_count": null,
      "id": "ab92767b-3669-42ef-8df2-93dad4757b28",
      "metadata": {
        "id": "ab92767b-3669-42ef-8df2-93dad4757b28"
      },
      "outputs": [],
      "source": [
        "x1, x2, x3 = np.split(x, [3, 5])"
      ]
    },
    {
      "cell_type": "code",
      "execution_count": null,
      "id": "fb6065cd-22d4-4859-a485-9c51052fa4a4",
      "metadata": {
        "id": "fb6065cd-22d4-4859-a485-9c51052fa4a4"
      },
      "outputs": [],
      "source": [
        "x1"
      ]
    },
    {
      "cell_type": "code",
      "execution_count": null,
      "id": "d6f0ecef-da73-47c8-b3b9-befbe5073f54",
      "metadata": {
        "id": "d6f0ecef-da73-47c8-b3b9-befbe5073f54"
      },
      "outputs": [],
      "source": [
        "x2"
      ]
    },
    {
      "cell_type": "code",
      "execution_count": null,
      "id": "8ba87d0f-e77f-4fab-90cf-90e463b50dde",
      "metadata": {
        "id": "8ba87d0f-e77f-4fab-90cf-90e463b50dde"
      },
      "outputs": [],
      "source": [
        "x3"
      ]
    },
    {
      "cell_type": "code",
      "execution_count": null,
      "id": "4f726caa-5a45-4f3d-a1a2-c034da4af842",
      "metadata": {
        "id": "4f726caa-5a45-4f3d-a1a2-c034da4af842"
      },
      "outputs": [],
      "source": [
        "grid = np.arange(16).reshape((4, 4))"
      ]
    },
    {
      "cell_type": "code",
      "execution_count": null,
      "id": "39794dd4-64fb-4419-833f-0b510459cc03",
      "metadata": {
        "id": "39794dd4-64fb-4419-833f-0b510459cc03"
      },
      "outputs": [],
      "source": [
        "grid"
      ]
    },
    {
      "cell_type": "code",
      "execution_count": null,
      "id": "f983389a-2ed5-4e5f-92a8-007351248c6b",
      "metadata": {
        "id": "f983389a-2ed5-4e5f-92a8-007351248c6b"
      },
      "outputs": [],
      "source": [
        "grid1, grid2 = np.vsplit(grid, [2])"
      ]
    },
    {
      "cell_type": "code",
      "execution_count": null,
      "id": "1c0236c3-d49e-4e88-8bc6-015d22f30e63",
      "metadata": {
        "id": "1c0236c3-d49e-4e88-8bc6-015d22f30e63"
      },
      "outputs": [],
      "source": [
        "grid1"
      ]
    },
    {
      "cell_type": "code",
      "execution_count": null,
      "id": "f73f5c46-5aff-4951-a3e7-e97be1901185",
      "metadata": {
        "id": "f73f5c46-5aff-4951-a3e7-e97be1901185"
      },
      "outputs": [],
      "source": [
        "grid2"
      ]
    },
    {
      "cell_type": "code",
      "execution_count": null,
      "id": "2922ca7e-3858-4562-b0e2-85dc6c1c77f2",
      "metadata": {
        "id": "2922ca7e-3858-4562-b0e2-85dc6c1c77f2"
      },
      "outputs": [],
      "source": [
        "left, right = np.hsplit(grid, [2])"
      ]
    },
    {
      "cell_type": "code",
      "execution_count": null,
      "id": "5ad4d3f4-2b30-4b30-a5de-0fe12fcf1081",
      "metadata": {
        "id": "5ad4d3f4-2b30-4b30-a5de-0fe12fcf1081"
      },
      "outputs": [],
      "source": [
        "left"
      ]
    },
    {
      "cell_type": "code",
      "execution_count": null,
      "id": "487865d8-39ef-4e92-bd8d-2c41a266af05",
      "metadata": {
        "id": "487865d8-39ef-4e92-bd8d-2c41a266af05"
      },
      "outputs": [],
      "source": [
        "right"
      ]
    },
    {
      "cell_type": "code",
      "execution_count": null,
      "id": "d6282f33-6821-4dd0-94d4-e4b5f9bb3631",
      "metadata": {
        "id": "d6282f33-6821-4dd0-94d4-e4b5f9bb3631"
      },
      "outputs": [],
      "source": [
        "left[0,0] = 666"
      ]
    },
    {
      "cell_type": "code",
      "execution_count": null,
      "id": "0dacf61c-e239-4a1b-b314-3c0c29a2b778",
      "metadata": {
        "id": "0dacf61c-e239-4a1b-b314-3c0c29a2b778"
      },
      "outputs": [],
      "source": [
        "grid"
      ]
    },
    {
      "cell_type": "markdown",
      "id": "32e17617-b60c-4e5f-9cd0-c30a07db03d1",
      "metadata": {
        "id": "32e17617-b60c-4e5f-9cd0-c30a07db03d1"
      },
      "source": [
        "## Funciones universales"
      ]
    },
    {
      "cell_type": "code",
      "execution_count": null,
      "id": "026ec949-b267-4c54-9759-32c3625e8253",
      "metadata": {
        "id": "026ec949-b267-4c54-9759-32c3625e8253"
      },
      "outputs": [],
      "source": [
        "np.random.seed(0)"
      ]
    },
    {
      "cell_type": "code",
      "execution_count": null,
      "id": "6e19ab01-c63d-46a5-b530-bb7711c65f76",
      "metadata": {
        "id": "6e19ab01-c63d-46a5-b530-bb7711c65f76"
      },
      "outputs": [],
      "source": [
        "def reciprocos(valores):\n",
        "    recs = np.empty(len(valores))\n",
        "    for i in range(len(valores)):\n",
        "        recs[i] = 1.0 / valores[i]\n",
        "    return recs"
      ]
    },
    {
      "cell_type": "code",
      "execution_count": null,
      "id": "b226ff84-d9fd-4141-9503-9ceeb5c30e71",
      "metadata": {
        "id": "b226ff84-d9fd-4141-9503-9ceeb5c30e71"
      },
      "outputs": [],
      "source": [
        "x = np.random.randint(1, 10, 5)\n",
        "x"
      ]
    },
    {
      "cell_type": "code",
      "execution_count": null,
      "id": "56bb337b-0d34-4b4c-8fd5-57b91a71379b",
      "metadata": {
        "id": "56bb337b-0d34-4b4c-8fd5-57b91a71379b"
      },
      "outputs": [],
      "source": [
        "reciprocos(x)"
      ]
    },
    {
      "cell_type": "code",
      "execution_count": null,
      "id": "91c0e585-d3be-43d5-aff1-705b7946d54a",
      "metadata": {
        "id": "91c0e585-d3be-43d5-aff1-705b7946d54a"
      },
      "outputs": [],
      "source": [
        "1.0 / x"
      ]
    },
    {
      "cell_type": "code",
      "execution_count": null,
      "id": "e6b3b8f1-cd87-424b-8be2-7ae0fe8554a6",
      "metadata": {
        "id": "e6b3b8f1-cd87-424b-8be2-7ae0fe8554a6"
      },
      "outputs": [],
      "source": [
        "x = np.random.randint(1, 100, 10000000)\n",
        "x"
      ]
    },
    {
      "cell_type": "code",
      "execution_count": null,
      "id": "900ffbf1-3782-4451-b24a-c99027af94cf",
      "metadata": {
        "id": "900ffbf1-3782-4451-b24a-c99027af94cf"
      },
      "outputs": [],
      "source": [
        "%%time\n",
        "reciprocos(x)"
      ]
    },
    {
      "cell_type": "code",
      "execution_count": null,
      "id": "e9c0ce42-27ec-4337-8f00-b9e31c911453",
      "metadata": {
        "id": "e9c0ce42-27ec-4337-8f00-b9e31c911453"
      },
      "outputs": [],
      "source": [
        "%%time\n",
        "1 / x"
      ]
    },
    {
      "cell_type": "code",
      "execution_count": null,
      "id": "68d421b2-6719-4d09-b219-0d79ff0a328a",
      "metadata": {
        "id": "68d421b2-6719-4d09-b219-0d79ff0a328a"
      },
      "outputs": [],
      "source": [
        "x = np.arange(1,10).reshape((3,3))\n",
        "x"
      ]
    },
    {
      "cell_type": "code",
      "execution_count": null,
      "id": "e0337093-ef51-4251-a739-1ce13c7e46cf",
      "metadata": {
        "id": "e0337093-ef51-4251-a739-1ce13c7e46cf"
      },
      "outputs": [],
      "source": [
        "2 ** x"
      ]
    },
    {
      "cell_type": "code",
      "execution_count": null,
      "id": "77c37ffb-a79e-4851-a4e0-25d9863458be",
      "metadata": {
        "id": "77c37ffb-a79e-4851-a4e0-25d9863458be"
      },
      "outputs": [],
      "source": [
        "x + 5"
      ]
    },
    {
      "cell_type": "code",
      "execution_count": null,
      "id": "900e33dc-2538-4eb3-8b97-34ec56d0ce37",
      "metadata": {
        "id": "900e33dc-2538-4eb3-8b97-34ec56d0ce37"
      },
      "outputs": [],
      "source": [
        "x - 5"
      ]
    },
    {
      "cell_type": "code",
      "execution_count": null,
      "id": "d32457db-7b0e-4a85-8ec4-ccfc21a65466",
      "metadata": {
        "id": "d32457db-7b0e-4a85-8ec4-ccfc21a65466"
      },
      "outputs": [],
      "source": [
        "x * 5"
      ]
    },
    {
      "cell_type": "code",
      "execution_count": null,
      "id": "af67d2a7-098f-45d7-8b9d-093aa1cc0c42",
      "metadata": {
        "id": "af67d2a7-098f-45d7-8b9d-093aa1cc0c42"
      },
      "outputs": [],
      "source": [
        "x / 2"
      ]
    },
    {
      "cell_type": "code",
      "execution_count": null,
      "id": "09c7f7da-17b0-482b-9550-6fda251ab140",
      "metadata": {
        "id": "09c7f7da-17b0-482b-9550-6fda251ab140"
      },
      "outputs": [],
      "source": [
        "x // 2"
      ]
    },
    {
      "cell_type": "code",
      "execution_count": null,
      "id": "7804d6cf-8d27-4ab5-8790-646e3fc9aee5",
      "metadata": {
        "id": "7804d6cf-8d27-4ab5-8790-646e3fc9aee5"
      },
      "outputs": [],
      "source": [
        "-x"
      ]
    },
    {
      "cell_type": "code",
      "execution_count": null,
      "id": "36b4e276-2d1c-473e-85db-b92a6c405e49",
      "metadata": {
        "id": "36b4e276-2d1c-473e-85db-b92a6c405e49"
      },
      "outputs": [],
      "source": [
        "x ** 2"
      ]
    },
    {
      "cell_type": "code",
      "execution_count": null,
      "id": "9611bc76-f6e4-4a1f-a92b-f5225419570f",
      "metadata": {
        "id": "9611bc76-f6e4-4a1f-a92b-f5225419570f"
      },
      "outputs": [],
      "source": [
        "x % 2"
      ]
    },
    {
      "cell_type": "code",
      "execution_count": null,
      "id": "b6a95bd1-dd6c-4f31-8248-e116da340327",
      "metadata": {
        "id": "b6a95bd1-dd6c-4f31-8248-e116da340327"
      },
      "outputs": [],
      "source": [
        "-(0.5*x + 1) ** 2"
      ]
    },
    {
      "cell_type": "code",
      "execution_count": null,
      "id": "2b793fd6-5ec7-464a-8633-cce9c4edc9ad",
      "metadata": {
        "id": "2b793fd6-5ec7-464a-8633-cce9c4edc9ad"
      },
      "outputs": [],
      "source": [
        "np.sin(x)"
      ]
    },
    {
      "cell_type": "code",
      "execution_count": null,
      "id": "8ef3146f-67c0-44a5-a84d-054f8e2cdc3c",
      "metadata": {
        "id": "8ef3146f-67c0-44a5-a84d-054f8e2cdc3c"
      },
      "outputs": [],
      "source": [
        "x + x"
      ]
    },
    {
      "cell_type": "code",
      "execution_count": null,
      "id": "9e060723-488a-4d79-9e75-a7aa82cc6c2f",
      "metadata": {
        "id": "9e060723-488a-4d79-9e75-a7aa82cc6c2f"
      },
      "outputs": [],
      "source": [
        "np.add(x, x)"
      ]
    },
    {
      "cell_type": "code",
      "execution_count": null,
      "id": "f9909330-8269-43a1-bb28-233a65c5aca7",
      "metadata": {
        "id": "f9909330-8269-43a1-bb28-233a65c5aca7"
      },
      "outputs": [],
      "source": [
        "np.add"
      ]
    },
    {
      "cell_type": "code",
      "execution_count": null,
      "id": "8c859c15-0b1e-4119-9402-f92b3ac9f779",
      "metadata": {
        "id": "8c859c15-0b1e-4119-9402-f92b3ac9f779"
      },
      "outputs": [],
      "source": [
        "np.subtract"
      ]
    },
    {
      "cell_type": "code",
      "execution_count": null,
      "id": "a238770c-c103-443a-9a9e-5319def1d6ef",
      "metadata": {
        "id": "a238770c-c103-443a-9a9e-5319def1d6ef"
      },
      "outputs": [],
      "source": [
        "np.negative"
      ]
    },
    {
      "cell_type": "code",
      "execution_count": null,
      "id": "3c457fa5-3efd-448e-8a6a-d07765e10f05",
      "metadata": {
        "id": "3c457fa5-3efd-448e-8a6a-d07765e10f05"
      },
      "outputs": [],
      "source": [
        "np.multiply"
      ]
    },
    {
      "cell_type": "code",
      "execution_count": null,
      "id": "731705f8-fc2c-4f53-b301-e8478dc05c5b",
      "metadata": {
        "id": "731705f8-fc2c-4f53-b301-e8478dc05c5b"
      },
      "outputs": [],
      "source": [
        "np.divide"
      ]
    },
    {
      "cell_type": "code",
      "execution_count": null,
      "id": "50fe765f-58bd-43c7-827b-8b75cdc02eb2",
      "metadata": {
        "id": "50fe765f-58bd-43c7-827b-8b75cdc02eb2"
      },
      "outputs": [],
      "source": [
        "np.floor_divide"
      ]
    },
    {
      "cell_type": "code",
      "execution_count": null,
      "id": "3e036770-1d92-4c5d-9e0d-d4dc0c1217a6",
      "metadata": {
        "id": "3e036770-1d92-4c5d-9e0d-d4dc0c1217a6"
      },
      "outputs": [],
      "source": [
        "np.power"
      ]
    },
    {
      "cell_type": "code",
      "execution_count": null,
      "id": "5106f001-02bf-4411-8dba-03b35f6c65fd",
      "metadata": {
        "id": "5106f001-02bf-4411-8dba-03b35f6c65fd"
      },
      "outputs": [],
      "source": [
        "np.mod"
      ]
    },
    {
      "cell_type": "code",
      "execution_count": null,
      "id": "b6785ec0-084d-4673-9cbf-dfdf22f8d0fe",
      "metadata": {
        "id": "b6785ec0-084d-4673-9cbf-dfdf22f8d0fe"
      },
      "outputs": [],
      "source": [
        "np.abs"
      ]
    },
    {
      "cell_type": "code",
      "execution_count": null,
      "id": "200c64b1-0ffb-4181-8a95-37a9a2b274ff",
      "metadata": {
        "id": "200c64b1-0ffb-4181-8a95-37a9a2b274ff"
      },
      "outputs": [],
      "source": [
        "reciprocos"
      ]
    },
    {
      "cell_type": "code",
      "execution_count": null,
      "id": "9e2b8d3a-bfd1-49fa-af10-dfe618433623",
      "metadata": {
        "id": "9e2b8d3a-bfd1-49fa-af10-dfe618433623"
      },
      "outputs": [],
      "source": [
        "import math"
      ]
    },
    {
      "cell_type": "code",
      "execution_count": null,
      "id": "285a179a-8b70-4f79-930c-202eb15f09a2",
      "metadata": {
        "id": "285a179a-8b70-4f79-930c-202eb15f09a2"
      },
      "outputs": [],
      "source": [
        "math.sin"
      ]
    },
    {
      "cell_type": "code",
      "execution_count": null,
      "id": "fe41b82d-312c-47bd-86ce-146bd1bc3d8d",
      "metadata": {
        "id": "fe41b82d-312c-47bd-86ce-146bd1bc3d8d"
      },
      "outputs": [],
      "source": [
        "math.sin(x)"
      ]
    },
    {
      "cell_type": "code",
      "execution_count": null,
      "id": "3dc498c1-5bc5-4920-90dc-ef683ce5dfd1",
      "metadata": {
        "id": "3dc498c1-5bc5-4920-90dc-ef683ce5dfd1"
      },
      "outputs": [],
      "source": [
        "def sin_reciproco(x):\n",
        "    return math.sin(1 / x)"
      ]
    },
    {
      "cell_type": "code",
      "execution_count": null,
      "id": "4bcb3aa0-b942-4a0d-bbf1-f59a4960a0e0",
      "metadata": {
        "id": "4bcb3aa0-b942-4a0d-bbf1-f59a4960a0e0"
      },
      "outputs": [],
      "source": [
        "sin_reciproco_chilo = np.frompyfunc(sin_reciproco, 1, 1)"
      ]
    },
    {
      "cell_type": "code",
      "execution_count": null,
      "id": "617b4f13-146e-4d14-be16-29607fa3e26b",
      "metadata": {
        "id": "617b4f13-146e-4d14-be16-29607fa3e26b"
      },
      "outputs": [],
      "source": [
        "sin_reciproco(x)"
      ]
    },
    {
      "cell_type": "code",
      "execution_count": null,
      "id": "613a9511-3006-4f2c-b03e-f65f47830476",
      "metadata": {
        "id": "613a9511-3006-4f2c-b03e-f65f47830476"
      },
      "outputs": [],
      "source": [
        "sin_reciproco_chilo(x)"
      ]
    },
    {
      "cell_type": "code",
      "execution_count": null,
      "id": "2cac2664-102f-41a1-86dd-37bb4f77ff3d",
      "metadata": {
        "id": "2cac2664-102f-41a1-86dd-37bb4f77ff3d"
      },
      "outputs": [],
      "source": [
        "def sin_reciproco_chafa(xs):\n",
        "    ys = np.empty(xs.shape)\n",
        "    for i in range(xs.shape[0]):\n",
        "        for j in range(xs.shape[1]):\n",
        "            ys[i,j] = sin_reciproco(xs[i,j])\n",
        "    return ys"
      ]
    },
    {
      "cell_type": "code",
      "execution_count": null,
      "id": "f417e3d7-2815-4c57-924e-ed72e053a6d4",
      "metadata": {
        "id": "f417e3d7-2815-4c57-924e-ed72e053a6d4"
      },
      "outputs": [],
      "source": [
        "grid ="
      ]
    },
    {
      "cell_type": "code",
      "execution_count": null,
      "id": "4eaa17be-708e-49c2-8777-105ed5d9ec5a",
      "metadata": {
        "id": "4eaa17be-708e-49c2-8777-105ed5d9ec5a"
      },
      "outputs": [],
      "source": [
        "sin_reciproco_chafa(x)"
      ]
    },
    {
      "cell_type": "code",
      "execution_count": null,
      "id": "04cd346e-f45d-4a1e-a9b8-ebaf96510b92",
      "metadata": {
        "id": "04cd346e-f45d-4a1e-a9b8-ebaf96510b92"
      },
      "outputs": [],
      "source": [
        "n = 10000\n",
        "grid = np.random.randint(1, 100, n**2).reshape((n,n))"
      ]
    },
    {
      "cell_type": "code",
      "execution_count": null,
      "id": "6750166d-af05-45ca-9137-cb09b39901d2",
      "metadata": {
        "id": "6750166d-af05-45ca-9137-cb09b39901d2"
      },
      "outputs": [],
      "source": [
        "%%time\n",
        "sin_reciproco_chafa(grid)"
      ]
    },
    {
      "cell_type": "code",
      "execution_count": null,
      "id": "ef5e3d7a-0a86-4c91-884a-d81616c9ac2c",
      "metadata": {
        "id": "ef5e3d7a-0a86-4c91-884a-d81616c9ac2c"
      },
      "outputs": [],
      "source": [
        "%%time\n",
        "sin_reciproco_chilo(grid)"
      ]
    },
    {
      "cell_type": "code",
      "execution_count": null,
      "id": "0fa80b65-d3e1-4cb8-bbc1-2cde7fc45635",
      "metadata": {
        "id": "0fa80b65-d3e1-4cb8-bbc1-2cde7fc45635"
      },
      "outputs": [],
      "source": [
        "sin_reciproco_chilo"
      ]
    },
    {
      "cell_type": "code",
      "execution_count": null,
      "id": "3d781310-cfce-406c-8883-e5428ddcde46",
      "metadata": {
        "id": "3d781310-cfce-406c-8883-e5428ddcde46"
      },
      "outputs": [],
      "source": [
        "x = np.arange(1, 6)\n",
        "x"
      ]
    },
    {
      "cell_type": "code",
      "execution_count": null,
      "id": "a9807246-6323-4791-8639-70ca533ac526",
      "metadata": {
        "id": "a9807246-6323-4791-8639-70ca533ac526"
      },
      "outputs": [],
      "source": [
        "np.add"
      ]
    },
    {
      "cell_type": "code",
      "execution_count": null,
      "id": "0a8a4a50-c0f1-4062-9dff-abdb6f2ad996",
      "metadata": {
        "id": "0a8a4a50-c0f1-4062-9dff-abdb6f2ad996"
      },
      "outputs": [],
      "source": [
        "np.add.outer(x, x)"
      ]
    },
    {
      "cell_type": "code",
      "execution_count": null,
      "id": "5f947406-6b1c-422b-8605-d94858a284ee",
      "metadata": {
        "id": "5f947406-6b1c-422b-8605-d94858a284ee"
      },
      "outputs": [],
      "source": [
        "sin_reciproco_chilo"
      ]
    },
    {
      "cell_type": "code",
      "execution_count": null,
      "id": "0378b70b-1ff4-4957-a2b6-68487cf36ffd",
      "metadata": {
        "id": "0378b70b-1ff4-4957-a2b6-68487cf36ffd"
      },
      "outputs": [],
      "source": [
        "sin_reciproco_chilo.outer(x, x)"
      ]
    },
    {
      "cell_type": "code",
      "execution_count": null,
      "id": "045a3842-b2d6-4122-80fa-8cdc31b37cd7",
      "metadata": {
        "id": "045a3842-b2d6-4122-80fa-8cdc31b37cd7"
      },
      "outputs": [],
      "source": [
        "def sinx_cosy(x, y):\n",
        "    return np.sin(x)*np.cos(y)\n",
        "\n",
        "sinx_cosy_vec = np.frompyfunc(sinx_cosy, 2, 1)"
      ]
    },
    {
      "cell_type": "code",
      "execution_count": null,
      "id": "6479f819-6a5e-4f5d-a9f9-4d03dd80d676",
      "metadata": {
        "id": "6479f819-6a5e-4f5d-a9f9-4d03dd80d676"
      },
      "outputs": [],
      "source": [
        "print(sinx_cosy_vec.outer(x, x))"
      ]
    },
    {
      "cell_type": "markdown",
      "id": "5c04336e-d2f2-4447-bc4c-6f2a07c1f8c6",
      "metadata": {
        "id": "5c04336e-d2f2-4447-bc4c-6f2a07c1f8c6"
      },
      "source": [
        "## Broadcasting"
      ]
    },
    {
      "cell_type": "markdown",
      "id": "f4e05cb0-c639-44a2-9b1f-bd692374217d",
      "metadata": {
        "id": "f4e05cb0-c639-44a2-9b1f-bd692374217d"
      },
      "source": [
        "Revisa el manual de usuario de NumPy para aprender sobre el concepto de *Broadcasting*:\n",
        "\n",
        "https://numpy.org/doc/stable/user/basics.broadcasting.html"
      ]
    },
    {
      "cell_type": "markdown",
      "id": "ef471e11-3b6f-4edb-8a75-455e4fbbab4f",
      "metadata": {
        "id": "ef471e11-3b6f-4edb-8a75-455e4fbbab4f"
      },
      "source": [
        "## Tarea\n",
        "\n",
        "En esta tarea vamos a trabajar el problema de encontrar los $k$ vecinos más cercanos.\n",
        "Revisa los fragmentos de código y describe en prosa cómo estamos calculando los vecinos más cercanos. Debes entender y explicar cada aspecto de este código."
      ]
    },
    {
      "cell_type": "code",
      "execution_count": 53,
      "id": "31729ba5-8081-474e-b901-4da432de946b",
      "metadata": {
        "id": "31729ba5-8081-474e-b901-4da432de946b"
      },
      "outputs": [],
      "source": [
        "import matplotlib.pyplot as plt\n",
        "import seaborn\n",
        "seaborn.set_theme()"
      ]
    },
    {
      "cell_type": "code",
      "source": [
        "rand.rand?"
      ],
      "metadata": {
        "id": "enyBGI5MSuPs"
      },
      "id": "enyBGI5MSuPs",
      "execution_count": 70,
      "outputs": []
    },
    {
      "cell_type": "code",
      "execution_count": 54,
      "id": "033def6e-c865-4324-97b2-14fb6fd96cbe",
      "metadata": {
        "id": "033def6e-c865-4324-97b2-14fb6fd96cbe"
      },
      "outputs": [],
      "source": [
        "rand = np.random.RandomState(42)\n",
        "N = 1000\n",
        "X = rand.rand(N, 2)\n",
        "k = 2"
      ]
    },
    {
      "cell_type": "markdown",
      "source": [
        "<span style=\"color: purple; font-weight: bold;font-size: 16px;\">\n",
        "Utilizando \"np.random.RandomState?\", asi como \"rand.rand?\" podemos obtener que lo que se hace en el codigo de arriba es lo siguiente.\n",
        "\n",
        "Se inicia definiendo la variable rand, en la cual se utiliza RandomState, que es un contenedor para el generador lento de numeros de Mersenne Twister en vez del default que usa el paquete random o python en general, asi como tambien definimos 42 como la semilla de este generador de numeros aleatorios. Redifinimos rand vaya.\n",
        "\n",
        "Despues solamente se define N como 1000, que en este caso parecer ser parte de las dimensiones que va a tener nuestro argumento \"X\", ya que justo adelante se define como rand.rand(N,2), es decir, un arreglo de (tomando N=1000), (1000,2) donde se generan numeros aleatorios con el generador lento de numeros aleatorios Marsenne Twister.\n",
        "\n",
        "Por ultimo definimos una variable k=2.\n",
        "</span>\n",
        "\n"
      ],
      "metadata": {
        "id": "XxNf1kC4R1uT"
      },
      "id": "XxNf1kC4R1uT"
    },
    {
      "cell_type": "code",
      "execution_count": 55,
      "id": "21189ae7-e7d7-40d2-87fd-bcb65f5d16ef",
      "metadata": {
        "colab": {
          "base_uri": "https://localhost:8080/",
          "height": 527
        },
        "id": "21189ae7-e7d7-40d2-87fd-bcb65f5d16ef",
        "outputId": "0f623e08-5e0f-455b-9f9d-63c1cfb69164"
      },
      "outputs": [
        {
          "output_type": "display_data",
          "data": {
            "text/plain": [
              "<Figure size 600x600 with 1 Axes>"
            ],
            "image/png": "[encoded data removed]"
          },
          "metadata": {}
        }
      ],
      "source": [
        "fig, ax = plt.subplots(figsize=(6,6))\n",
        "ax.scatter(X[:,0], X[:,1], s=(500/N))\n",
        "ax.set(\n",
        "    xlim=((-0.1,+1.1)),\n",
        "    ylim=((-0.1,+1.1)),\n",
        ");"
      ]
    },
    {
      "cell_type": "markdown",
      "source": [
        "<span style=\"color: purple; font-weight: bold;font-size: 16px;\">\n",
        "Empezamos definiendo una figura en la que vamos a tener una grafica, definiendo su tamaño, luego procedemos a plasmar dicha grafica en la figura. Definiendo dicha grafica como una de dispersion, donde se tiene en el eje horizontal todos los valores de la primera dim de X para el primer valor de la segunda dim, recordando que X es un arreglo de (1000, 2), y en el eje verticual se tiene todos los valores de la primera dim de X para el segundo valor de la segunda dim. Teniendo por ultimo el tamaño de los puntos como 500/N, es decir, 500/1000, lo cual es lo mismo que decir un medio, esto para poder apreciar ver los puntos en relacion a la cantidad de datos a graficar en este caso. Y por ultimo delimitamos los ejes de la grafica como -0.1 y 1.1 en ambos ejes.\n",
        "</span>"
      ],
      "metadata": {
        "id": "OchHB5fqUYwr"
      },
      "id": "OchHB5fqUYwr"
    },
    {
      "cell_type": "code",
      "source": [
        "X.shape"
      ],
      "metadata": {
        "colab": {
          "base_uri": "https://localhost:8080/"
        },
        "id": "p3NzO8J9ZmCy",
        "outputId": "a5ed5423-7797-406d-e5e8-cd7df0baab57"
      },
      "id": "p3NzO8J9ZmCy",
      "execution_count": 75,
      "outputs": [
        {
          "output_type": "execute_result",
          "data": {
            "text/plain": [
              "(1000, 2)"
            ]
          },
          "metadata": {},
          "execution_count": 75
        }
      ]
    },
    {
      "cell_type": "code",
      "source": [
        "D.shape"
      ],
      "metadata": {
        "colab": {
          "base_uri": "https://localhost:8080/"
        },
        "id": "7gn48IVqqMIP",
        "outputId": "ed4777d6-870b-485e-eab9-887580f7959e"
      },
      "id": "7gn48IVqqMIP",
      "execution_count": 141,
      "outputs": [
        {
          "output_type": "execute_result",
          "data": {
            "text/plain": [
              "(1000, 1000)"
            ]
          },
          "metadata": {},
          "execution_count": 141
        }
      ]
    },
    {
      "cell_type": "code",
      "execution_count": 73,
      "id": "6093b1ae-e114-47e9-bc40-9539cf7b2346",
      "metadata": {
        "id": "6093b1ae-e114-47e9-bc40-9539cf7b2346"
      },
      "outputs": [],
      "source": [
        "D = np.sum(\n",
        "    (X.reshape((N, 1, 2)) -\n",
        "     X.reshape((1, N, 2))) ** 2,\n",
        "    axis=2,\n",
        ")"
      ]
    },
    {
      "cell_type": "markdown",
      "source": [
        "<span style=\"color: purple; font-weight: bold;font-size: 16px;\">\n",
        "X originalmente es un arreglo de (1000,2), y lo que se hace aqui es un proceso por partes, que, de adentro hacia afuera:<br>\n",
        "\n",
        "se hace un .reshape para X en el cual se le agrega una dimension intermediaria entre N y 2 para ambos casos de reshape<br>\n",
        "se calcula la diferencia de estos<br>\n",
        "se eleva al cuadrado<br>\n",
        "\n",
        "sumando este proceso para cada elemento, guardando el valor de esta diferencia al cuadrado(distancia), teniendo asi como resultado un arreglo \"D\" de 1000x1000 cuyos indices (n,m) representan los elementos a los cuales se les calculo la distancia.\n",
        "</span>"
      ],
      "metadata": {
        "id": "WlcO3JXFV9ON"
      },
      "id": "WlcO3JXFV9ON"
    },
    {
      "cell_type": "code",
      "execution_count": 74,
      "id": "4c533a68-c1cb-4ddf-b05a-c4a29155794f",
      "metadata": {
        "id": "4c533a68-c1cb-4ddf-b05a-c4a29155794f"
      },
      "outputs": [],
      "source": [
        "NN = np.argsort(D, axis=1)"
      ]
    },
    {
      "cell_type": "markdown",
      "source": [
        "<span style=\"color: purple; font-weight: bold;font-size: 16px;\">\n",
        "NN se consigue con argsort que es una funcion que nos da un arreglo de indices, que organizarian cada renglon a lo largo de un eje especifico, en este caso, 1. Arreglo que nos va a permitir acceder a los vecinos adelante facilmente.\n",
        "</span>"
      ],
      "metadata": {
        "id": "POc5ogQLq6zO"
      },
      "id": "POc5ogQLq6zO"
    },
    {
      "cell_type": "code",
      "execution_count": 58,
      "id": "43940be6-7a9d-45f1-a806-05b72f2b9cc6",
      "metadata": {
        "colab": {
          "base_uri": "https://localhost:8080/",
          "height": 835
        },
        "id": "43940be6-7a9d-45f1-a806-05b72f2b9cc6",
        "outputId": "e5d0c58f-b8ed-49fb-f629-0ca50841261b"
      },
      "outputs": [
        {
          "output_type": "display_data",
          "data": {
            "text/plain": [
              "<Figure size 1000x1000 with 1 Axes>"
            ],
            "image/png": "[encoded data removed]"
          },
          "metadata": {}
        }
      ],
      "source": [
        "fig, ax = plt.subplots(figsize=(10,10))\n",
        "for i in range(X.shape[0]):\n",
        "    for j in NN[i, 1:(k+1)]:\n",
        "        ax.plot(*np.transpose([X[j], X[i]]))\n",
        "ax.scatter(X[:,0], X[:,1], s=(500/N))\n",
        "ax.set(\n",
        "    xlim=((-0.1,+1.1)),\n",
        "    ylim=((-0.1,+1.1)),\n",
        ");"
      ]
    },
    {
      "cell_type": "markdown",
      "source": [
        "<span style=\"color: purple; font-weight: bold;font-size: 16px;\">\n",
        "Se crea una figura en la cual graficar, y luego se procede a graficar los puntos de interes.\n",
        "\n",
        "for i in range, abarca todos los puntos que hay en X, cantidad obtenida con x.shape[0]<br>\n",
        "for j in NN, abarca los indices de los vecinos cercanos al punto i en cuestion de esa iteracion<br>\n",
        "NN[i, 1:(k+1)] agarra los elementos a partir del 1(es decir, excluyendo al 0), hasta el k-esimo punto cercano<br>\n",
        "np.transpose tranpsone la coordenada a su dimension correspondiente para poder con \"ax.plot\" crear una linea entre el punto en cuestion \"i\" y su iteracion del punto mas cercano en el que se encuentre<br>\n",
        "ax.scatter grafica los puntos, ya que solo habiamos graficado las lineas<br>\n",
        "y por ultimo se ponen los limites<br>\n",
        "</span>"
      ],
      "metadata": {
        "id": "UTGIpaaSxiD0"
      },
      "id": "UTGIpaaSxiD0"
    }
  ],
  "metadata": {
    "kernelspec": {
      "display_name": "Python 3 (ipykernel)",
      "language": "python",
      "name": "python3"
    },
    "language_info": {
      "codemirror_mode": {
        "name": "ipython",
        "version": 3
      },
      "file_extension": ".py",
      "mimetype": "text/x-python",
      "name": "python",
      "nbconvert_exporter": "python",
      "pygments_lexer": "ipython3",
      "version": "3.11.10"
    },
    "colab": {
      "provenance": [],
      "collapsed_sections": [
        "8436e487-07e6-4171-bd8c-3e6fac292d64",
        "2bb673ea-213c-4ef5-9396-67cf26ad53ba",
        "ca34ed85-6ef5-49cc-b92e-1ebc783c3a78",
        "32e17617-b60c-4e5f-9cd0-c30a07db03d1"
      ]
    }
  },
  "nbformat": 4,
  "nbformat_minor": 5
}