{
 "cells": [
  {
   "cell_type": "markdown",
   "id": "3852204a",
   "metadata": {},
   "source": []
  },
  {
   "cell_type": "markdown",
   "id": "876f5eba",
   "metadata": {},
   "source": [
    "[Actividad de regex, equipo 1](https://github.com/gmauricio-toledo/NLP-MCD/blob/e3835161cc6778c0a600468c90f22632636d8c62/tareas/actividad_regex_1.md)"
   ]
  },
  {
   "cell_type": "markdown",
   "id": "03d1e740",
   "metadata": {},
   "source": [
    "Equipo 1: Direcciones de Email\n",
    "\n",
    "Extracción:\n",
    "\n",
    "    Crear patrones regex robustos que capturen las variaciones mostradas\n",
    "\n",
    "    Subdominios: usuario@mail.empresa.com.mx\n",
    "    Caracteres especiales: juan.perez+newsletter@gmail.com\n",
    "    Números: support2023@mi-empresa.org\n",
    "\n",
    "    Usar grupos () para extraer componentes específicos\n",
    "    Probar en regex101.com con el siguiente texto de ejemplo:"
   ]
  },
  {
   "cell_type": "markdown",
   "id": "b9d1587a",
   "metadata": {},
   "source": [
    "En la empresa TecnoDatos S.A. de C.V., hemos recopilado información de contacto de diversos clientes y proveedores durante el último trimestre. El director general, contactable en director.general@tecnodatos.com.mx, ha solicitado una auditoría completa de nuestra base de datos de contactos.\n",
    "\n",
    "Nuestro equipo de ventas maneja cuentas principales como maria.rodriguez+ventas@gmail.com y carlos.martinez@subdivisiones.empresa.com. También tenemos contactos internacionales incluyendo support2023@mi-empresa.org y admin@servers.internacional.net. El departamento de marketing utiliza direcciones como newsletter.manager@marketing-digital.mx y promociones@tienda-online.com.mx.\n",
    "\n",
    "Durante la revisión, encontramos algunas direcciones problemáticas que requieren validación: usuario.test@dominio (sin extensión), @empresa.com (sin usuario), y dirección@.com (dominio incompleto). Sin embargo, las direcciones válidas incluyen jose.perez+trabajo@corporativo.gob.mx, ana.lopez@desarrollo.software.mx, y consultoria2024@negocios-internacionales.org.\n",
    "\n",
    "El sistema de tickets maneja correos como ticket-12345@soporte.tecnodatos.mx, bug.report@qa.sistemas.com, y feature.request+urgent@desarrollo.apps.mx. Los freelancers registrados incluyen diseñador.web@creativos.mx, developer.senior@programadores.freelance.com, y consultor.bi@datos-analytics.net.\n",
    "\n",
    "También hemos identificado direcciones de universidades como profesor.investigacion@academica.edu.mx, estudiante.maestria@posgrados.universidad.mx, y biblioteca.digital@recursos.educativos.org.mx. Las organizaciones sin fines de lucro utilizan direcciones como donaciones@fundacion-educativa.org, voluntarios@ayuda.social.mx, y info@organizacion-ambiental.net.\n",
    "\n",
    "Algunas direcciones corporativas especiales incluyen no-reply@notificaciones.sistema.mx, automated.reports@reportes.empresa.com, y security.alerts+critical@seguridad.tecnodatos.mx. Los departamentos de recursos humanos manejan reclutamiento@talento.humano.mx y nomina.pagos@administracion.corporativa.com."
   ]
  },
  {
   "cell_type": "markdown",
   "id": "f5213651",
   "metadata": {},
   "source": [
    "Web Scrapping: Hacer web scrapping con Python para obtener algún texto grande donde puedas aplicar las expresiones del punto anterior y extraer todas las entidades usando el modulo re y guardarlas en un dataframe."
   ]
  },
  {
   "cell_type": "markdown",
   "id": "857da6e2",
   "metadata": {},
   "source": [
    "# Regex: \n",
    "(\\S+)@(\\S+\\.)(\\S+)\\b"
   ]
  },
  {
   "cell_type": "code",
   "execution_count": null,
   "id": "b850f36a",
   "metadata": {},
   "outputs": [
    {
     "ename": "",
     "evalue": "",
     "output_type": "error",
     "traceback": [
      "\u001b[1;31mRunning cells with '.conda (Python 3.11.13)' requires the ipykernel package.\n",
      "\u001b[1;31mInstall 'ipykernel' into the Python environment. \n",
      "\u001b[1;31mCommand: 'conda install -n .conda ipykernel --update-deps --force-reinstall'"
     ]
    }
   ],
   "source": [
    "!conda install ipykernel"
   ]
  },
  {
   "cell_type": "code",
   "execution_count": null,
   "id": "e331df89",
   "metadata": {},
   "outputs": [
    {
     "ename": "",
     "evalue": "",
     "output_type": "error",
     "traceback": [
      "\u001b[1;31mRunning cells with '.conda (Python 3.11.13)' requires the ipykernel package.\n",
      "\u001b[1;31mInstall 'ipykernel' into the Python environment. \n",
      "\u001b[1;31mCommand: 'conda install -n .conda ipykernel --update-deps --force-reinstall'"
     ]
    }
   ],
   "source": [
    "from selenium import webdriver\n",
    "from selenium.webdriver.common.by import By\n",
    "from selenium.webdriver.support.ui import WebDriverWait\n",
    "from selenium.webdriver.support import expected_conditions as EC"
   ]
  },
  {
   "cell_type": "code",
   "execution_count": null,
   "id": "8b18e7e2",
   "metadata": {},
   "outputs": [],
   "source": [
    "driver = webdriver.Chrome()\n",
    "driver.get(\"your_url\")"
   ]
  },
  {
   "cell_type": "code",
   "execution_count": null,
   "id": "bd6e3890",
   "metadata": {},
   "outputs": [],
   "source": [
    "\n",
    "\n",
    "\n",
    "# Click to expand menu (adjust selector as needed)\n",
    "menu_button = WebDriverWait(driver, 10).until(\n",
    "    EC.element_to_be_clickable((By.CSS_SELECTOR, \".menu-toggle\"))\n",
    ")\n",
    "menu_button.click()\n",
    "\n",
    "# Now the content is available for scraping\n",
    "page_source = driver.page_source"
   ]
  }
 ],
 "metadata": {
  "kernelspec": {
   "display_name": ".conda",
   "language": "python",
   "name": "python3"
  },
  "language_info": {
   "name": "python",
   "version": "3.11.13"
  }
 },
 "nbformat": 4,
 "nbformat_minor": 5
}
